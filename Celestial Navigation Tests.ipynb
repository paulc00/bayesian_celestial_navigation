{
 "cells": [
  {
   "cell_type": "code",
   "execution_count": 11,
   "metadata": {
    "collapsed": false
   },
   "outputs": [],
   "source": [
    "import numpy as np\n",
    "import datetime as dt\n",
    "from astropy import units as u\n",
    "from astropy.coordinates import Angle\n",
    "from astropy.coordinates import Longitude\n",
    "import pint as pt\n",
    "from pint import UnitRegistry\n",
    "import scipy.optimize\n",
    "import emcee\n",
    "import ephem\n",
    "import math\n",
    "import unittest\n",
    "\n",
    "import matplotlib\n",
    "import matplotlib.pyplot as plt\n",
    "#from mpl_toolkits.basemap import Basemap"
   ]
  },
  {
   "cell_type": "code",
   "execution_count": 3,
   "metadata": {
    "collapsed": false
   },
   "outputs": [
    {
     "name": "stdout",
     "output_type": "stream",
     "text": [
      "345d00m00s\n"
     ]
    },
    {
     "data": {
      "text/html": [
       "10.0 millibar"
      ],
      "text/latex": [
       "$10.0 millibar$"
      ],
      "text/plain": [
       "<Quantity(10.0, 'millibar')>"
      ]
     },
     "execution_count": 3,
     "metadata": {},
     "output_type": "execute_result"
    }
   ],
   "source": [
    "a = Longitude('-20d')+Longitude('-355d')\n",
    "print(a)\n",
    "ureg = UnitRegistry()\n",
    "ureg.Quantity(10.0,ureg.degC)\n",
    "ureg.Quantity(10.0,ureg.mbar)"
   ]
  },
  {
   "cell_type": "code",
   "execution_count": 22,
   "metadata": {
    "collapsed": false
   },
   "outputs": [],
   "source": [
    "def compute_Hc(latA, lonA, GHA, DEC):\n",
    "    # compute LHA from GHA and lonA\n",
    "    LHA = GHA + lonA\n",
    "    Hc_rad = np.arcsin(np.sin(DEC.radian)*np.sin(latA.radian) + np.cos(latA.radian)*np.cos(DEC.radian)*np.cos(LHA.radian))\n",
    "    return Angle(Hc_rad, unit=u.radian)\n",
    "\n",
    "\n",
    "def dip_correction(h):\n",
    "    dip_corr = Angle(-0.0293*np.sqrt(h.to_base_units().magnitude), unit=u.deg)\n",
    "    return dip_corr\n",
    "\n",
    "def index_correction(IE):\n",
    "    return -1*IE\n",
    "\n",
    "def atmo_correction(Ha, T, P):\n",
    "    ureg = UnitRegistry()\n",
    "    Pmb = P.to(ureg.mbar)\n",
    "    TdegC = T.to(ureg.degC)\n",
    "\n",
    "    f = 0.28*Pmb.magnitude/(TdegC.magnitude + 273)\n",
    "    Ro = -0.0167/np.tan(np.pi/180.0*(Ha.deg + 7.31/(Ha.deg + 4.4)))\n",
    "    return Angle(Ro*f,unit=u.deg)\n",
    "\n",
    "def dead_reckon(lat_init, lon_init, DRv, DRheading, time):\n",
    "    # compute lat velocity\n",
    "    lat_v = DRv*np.sin(DRheading.radian)\n",
    "    lon_v = DRv*np.cos(DRheading.radian)/np.cos(lat_init.radian) # corrects for lattitude\n",
    "    # now increment linearly based on time\n",
    "    return lat_init + lat_v*time, lon_init + lon_v*time\n",
    "\n",
    "def est_longitude(body, date, time, Hs, IE, h, temp, pressure, GHA, DEC, latA, lonA):\n",
    "    # use a root-finding algorithm to compute the longitude based on an\n",
    "    # assumed latitude. here, the estimated longitude is to start the root-finding algorithm\n",
    "    print(repr(Hs))\n",
    "\n",
    "    est_true_H = (Hs.deg + dip_correction(h).deg + index_correction(IE).deg + atmo_correction(Hs, temp, pressure).deg + semidiameter_correction(body, date, time).deg)\n",
    "    print('Finding Zo for true sextant angle of ' + '{:.3f}'.format(est_true_H) + ' degrees...')\n",
    "    \n",
    "    start_H = compute_Hc(latA, lonA, GHA, DEC).deg\n",
    "    lower_H = compute_Hc(latA, Angle(lonA.deg-2,unit=u.deg), GHA, DEC).deg\n",
    "    \n",
    "    upper_H = compute_Hc(latA, Angle(lonA.deg+2,unit=u.deg), GHA, DEC).deg\n",
    "    \n",
    "    print('Starting from value ' + '{:.3f}'.format(start_H) + ' degrees, with lower {:.3f} and upper {:.3f}.'.format(lower_H,upper_H))\n",
    "    \n",
    "    fz = lambda x: (compute_Hc(latA, Angle(x,unit=u.deg), GHA, DEC).deg - (Hs.deg + dip_correction(h).deg + index_correction(IE).deg + atmo_correction(Hs, temp, pressure).deg + semidiameter_correction(body, date, time).deg))\n",
    "    #print('fz(a) is {:.3f}, fz(b) is {:.3f}'.format(fz(lonA.deg-2),fz(lonA.deg+2)))\n",
    "    #spn_out = scipy.optimize.newton(fz, lonA.deg, maxiter=200)\n",
    "    sp_out = scipy.optimize.brentq(fz, lonA.deg-2.0, lonA.deg+2.0,maxiter=100)\n",
    "    \n",
    "    #sp_out = scipy.optimize.minimize_scalar(fz, bracket=[lonA.deg-2.0,lonA.deg+2.0], method='brent', tol=1.48e-06)\n",
    "    \n",
    "    return Angle(sp_out, unit=u.deg)\n",
    "\n",
    "\n",
    "def compute_displacement(lat, lon, bearing, distance):\n",
    "    # computes an array of distination lat/longs from an initial lat/long pair,\n",
    "    # a bearing, and an array of distances travelled. \n",
    "    \n",
    "    # define EARTH_RADIUS in meters for computing angular displacement\n",
    "    EARTH_RADIUS = 6371001.00 # meters\n",
    "    \n",
    "    # initialize empty arrays\n",
    "    N_points = len(distance)\n",
    "    lat_array_in = np.zeros((N_points,1))\n",
    "    lon_array_in = np.zeros((N_points,1))\n",
    "    bearing_array_in = np.zeros((N_points,1))\n",
    "    distance_array_in = np.zeros((N_points,1))\n",
    "    lat_out = []\n",
    "    lon_out = []\n",
    "    # populate arrays by converting the inputs\n",
    "    for i in range(N_points):\n",
    "        lat_array_in[i] = lat[i].rad\n",
    "        lon_array_in[i] = lon[i].rad\n",
    "        bearing_array_in[i] = bearing[i].rad\n",
    "        distance_array_in[i] = distance[i].to_base_units().magnitude\n",
    "    \n",
    "    # rename arrays to be consistent with moveable-type.co.uk convention\n",
    "    # should be arrays: phi1, theta, and delta\n",
    "    print(lat_array_in)\n",
    "    print(lon_array_in)\n",
    "    phi1 = lat_array_in\n",
    "    theta = bearing_array_in\n",
    "    lambda1 = lon_array_in\n",
    "    delta = distance_array_in/EARTH_RADIUS # should both be in meters\n",
    "    \n",
    "    # phi2 -- new lattitudes\n",
    "    # lambda2 -- new longitudes\n",
    "    phi2 = np.arcsin(np.sin(phi1)*np.cos(delta) + np.cos(phi1)*np.sin(delta)*np.cos(theta))\n",
    "    lambda2 = lambda1 + np.arctan2(np.sin(theta)*np.sin(delta)*np.cos(phi1), np.cos(delta) - np.sin(phi1)*np.sin(phi2))\n",
    "    \n",
    "    # now convert the phi2 and lambda2 back into degrees\n",
    "    for i in range(N_points):\n",
    "        lat_out.append(Angle(phi2[i], unit=u.radian))\n",
    "        lon_out.append(Angle(lambda2[i], unit=u.radian))\n",
    "    \n",
    "    return lat_out, lon_out\n",
    "\n",
    "def Hs_predict(datetimes, body, IE, h, temp, pressure, DRv, DRheading, latA, lonA):\n",
    "    '''\n",
    "    datetimes -- list of [date, time] list elements in Greenwich time\n",
    "    body      -- celestial body label as a string\n",
    "    IE        -- index error in arcminutes\n",
    "    h         -- observation height in meters, as a 'pint' object\n",
    "    pressure  -- atmospheric pressure in mbar as a 'pint' object\n",
    "    '''\n",
    "    \n",
    "    # instantiate some empty arrays\n",
    "    gha_dec_vals = np.zeros((len(datetimes),2))\n",
    "    # get the GHA and DEC of the 'body' at each date/time pair\n",
    "    for idx, dt in enumerate(datetimes):\n",
    "        date = dt[0]\n",
    "        time = dt[1]\n",
    "        GHA, DEC = compute_GHA_DEC(body, date, time)\n",
    "        gha_dec_vals[idx,0] = GHA\n",
    "        gha_dec_vals[idx,1] = DEC\n",
    "    \n",
    "    \n",
    "    Hc = compute_Hc(latA, lonA, GHA, DEC)\n",
    "    est_Hs = (Hc.deg - dip_correction(h).deg - index_correction(IE).deg - atmo_correction(Hc, temp, pressure).deg - semidiameter_correction(body, date, time).deg)\n",
    "    return est_Hs\n"
   ]
  },
  {
   "cell_type": "code",
   "execution_count": 31,
   "metadata": {
    "collapsed": false
   },
   "outputs": [
    {
     "name": "stdout",
     "output_type": "stream",
     "text": [
      "[[ 0.29205176]\n",
      " [ 0.29205176]]\n",
      "[[-0.47938377]\n",
      " [-0.47938377]]\n",
      "16d44.0m\n",
      "-27d28.0m\n",
      "16d44.0m\n",
      "-27d53.0m\n"
     ]
    }
   ],
   "source": [
    "# test lat/long displacement computations\n",
    "\n",
    "lat_t = [Angle('16d44m'),Angle('16d44m')]\n",
    "lon_t = [Angle('-27d28m'),Angle('-27d28m')]\n",
    "bearing_t = [Angle('270d'),Angle('270d')]\n",
    "distance_t = [float(0.0)*ureg.meter, float(2.0*60.0+8.0)/60.0*11.22*1.851*1000.0*ureg.meter]\n",
    "\n",
    "lat_out, lon_out = compute_displacement(lat_t, lon_t, bearing_t, distance_t)\n",
    "for i in range(2):\n",
    "    print(nadeg(lat_out[i].radian))\n",
    "    print(nadeg(lon_out[i].radian))"
   ]
  },
  {
   "cell_type": "code",
   "execution_count": 5,
   "metadata": {
    "collapsed": false
   },
   "outputs": [
    {
     "name": "stdout",
     "output_type": "stream",
     "text": [
      "5\n"
     ]
    },
    {
     "data": {
      "image/png": "[encoded data removed]",
      "text/plain": [
       "<matplotlib.figure.Figure at 0xa24c438>"
      ]
     },
     "metadata": {},
     "output_type": "display_data"
    }
   ],
   "source": [
    "#plot run of sun sights\n",
    "\n",
    "\n",
    "sun_sights = [\n",
    "    [10*3600+11*60+17.0, Angle('51d07.3m')],\n",
    "    [10*3600+12*60+13, Angle('51d22.1m')],\n",
    "    [10*3600.0+13*60+8, Angle('51d29.8m')],\n",
    "    [10*3600.0+13*60+55.0, Angle('51d39.5m')],\n",
    "    [10*3600+15*60+5.0, Angle('51d48.1m')]\n",
    "]\n",
    "print(len(sun_sights))\n",
    "# process list into 2d array\n",
    "\n",
    "sun_sights_processed = np.zeros((len(sun_sights),2))\n",
    "for i in range(len(sun_sights)):\n",
    "    sun_sights_processed[i,0] = sun_sights[i][0]\n",
    "    sun_sights_processed[i,1] = sun_sights[i][1].deg\n",
    "    \n",
    "plt.plot(sun_sights_processed[:,0],sun_sights_processed[:,1])\n",
    "plt.show()"
   ]
  },
  {
   "cell_type": "code",
   "execution_count": 9,
   "metadata": {
    "collapsed": false
   },
   "outputs": [
    {
     "name": "stdout",
     "output_type": "stream",
     "text": [
      "date: 2015/02/22 12:11:17\n",
      "GHA: 359.44666666666666 deg, DEC: -10.205 deg\n",
      "<Angle 51.12166666666667 deg>\n",
      "Finding Zo for true sextant angle of 51.299 degrees...\n",
      "Starting from value 51.601 degrees, with lower 50.168 and upper 52.985.\n",
      "Estimated longitude is: -27.544 deg\n",
      "date: 2015/02/22 12:12:13\n",
      "GHA: 359.68 deg, DEC: -10.205 deg\n",
      "<Angle 51.36833333333333 deg>\n",
      "Finding Zo for true sextant angle of 51.546 degrees...\n",
      "Starting from value 51.765 degrees, with lower 50.337 and upper 53.142.\n",
      "Estimated longitude is: -27.429 deg\n",
      "date: 2015/02/22 12:13:08\n",
      "GHA: 359.90833333333336 deg, DEC: -10.205 deg\n",
      "<Angle 51.49666666666667 deg>\n",
      "Finding Zo for true sextant angle of 51.674 degrees...\n",
      "Starting from value 51.925 degrees, with lower 50.503 and upper 53.296.\n",
      "Estimated longitude is: -27.475 deg\n",
      "date: 2015/02/22 12:13:55\n",
      "GHA: 0.105 deg, DEC: -10.205 deg\n",
      "<Angle 51.65833333333333 deg>\n",
      "Finding Zo for true sextant angle of 51.836 degrees...\n",
      "Starting from value 52.062 degrees, with lower 50.645 and upper 53.428.\n",
      "Estimated longitude is: -27.441 deg\n",
      "date: 2015/02/22 12:15:05\n",
      "GHA: 0.39666666666666667 deg, DEC: -10.205 deg\n",
      "<Angle 51.65833333333333 deg>\n",
      "Finding Zo for true sextant angle of 51.836 degrees...\n",
      "Starting from value 52.265 degrees, with lower 50.855 and upper 53.622.\n",
      "Estimated longitude is: -27.733 deg\n",
      "date: 2015/02/22 14:21:17\n",
      "GHA: 31.948333333333334 deg, DEC: -10.173333333333334 deg\n",
      "<Angle 62.538333333333334 deg>\n",
      "Finding Zo for true sextant angle of 62.713 degrees...\n",
      "Starting from value 62.672 degrees, with lower 62.948 and upper 62.258.\n",
      "Estimated longitude is: -27.358 deg\n",
      "date: 2015/02/22 14:22:23\n",
      "GHA: 32.223333333333336 deg, DEC: -10.171666666666667 deg\n",
      "<Angle 62.58 deg>\n",
      "Finding Zo for true sextant angle of 62.755 degrees...\n",
      "Starting from value 62.625 degrees, with lower 62.920 and upper 62.192.\n",
      "Estimated longitude is: -27.883 deg\n",
      "date: 2015/02/22 14:23:11\n",
      "GHA: 32.42333333333333 deg, DEC: -10.171666666666667 deg\n",
      "<Angle 62.60666666666667 deg>\n",
      "Finding Zo for true sextant angle of 62.781 degrees...\n",
      "Starting from value 62.588 degrees, with lower 62.897 and upper 62.141.\n",
      "Estimated longitude is: -28.257 deg\n"
     ]
    }
   ],
   "source": [
    "# 'database' of sightings for reduction into a single lat/long pair + course speed/heading\n",
    "\n",
    "db_sights = \"\"\"\\\n",
    "SunLL,2015/02/22,12:11:17,51d07.3m,0.0,2.0m,2.44,25,1010,5.5,180d,16d44m,-27d7m\n",
    "SunLL,2015/02/22,12:12:13,51d22.1m,0.0,2.0m,2.44,25,1010,5.5,180d,16d44m,-27d7m\n",
    "SunLL,2015/02/22,12:13:08,51d29.8m,0.0,2.0m,2.44,25,1010,5.5,180d,16d44m,-27d7m\n",
    "SunLL,2015/02/22,12:13:55,51d39.5m,0.0,2.0m,2.44,25,1010,5.5,180d,16d44m,-27d7m\n",
    "SunLL,2015/02/22,12:15:05,51d39.5m,0.0,2.0m,2.44,25,1010,5.5,180d,16d44m,-27d7m\n",
    "SunLL,2015/02/22,14:21:17,62d32.3m,0.0,2.1m,3.05,25,1010,5.5,180d,16d44m,-27d7m\n",
    "SunLL,2015/02/22,14:22:23,62d34.8m,0.0,2.1m,3.05,25,1010,5.5,180d,16d44m,-27d7m\n",
    "SunLL,2015/02/22,14:23:11,62d36.4m,0.0,2.1m,3.05,25,1010,5.5,180d,16d44m,-27d7m\n",
    "\"\"\"\n",
    "\n",
    "db_sights_split = db_sights.split('\\n')\n",
    "# remove last element\n",
    "del db_sights_split[-1]\n",
    "\n",
    "def nadeg(deg):\n",
    "    #changes ephem.angel (rad) to the format for the Angle class.\n",
    "    theminus = \"\"\n",
    "    if deg < 0:\n",
    "    \ttheminus = \"-\"\n",
    "    g = int(math.degrees(deg))\n",
    "    m = (math.degrees(deg)-g)*60\n",
    "    gm = \"%s%sd%04.1fm\" %(theminus,abs(g),abs(m))\n",
    "    return gm\n",
    "\n",
    "def compute_GHA_DEC(body, date, time):\n",
    "    if body == 'SunLL' or 'SunUL':\n",
    "        s = ephem.Sun()\n",
    "        obs = ephem.Observer()\n",
    "        date_string = date + ' ' + time\n",
    "        obs.date = date_string\n",
    "        \n",
    "        s.compute(date_string,epoch=date_string)\n",
    "\n",
    "        deg = ephem.degrees(obs.sidereal_time()-s.g_ra).norm\n",
    "        ghas = nadeg(deg)\n",
    "        deg = s.g_dec\n",
    "        decs = nadeg(deg)\n",
    "\n",
    "    return Angle(ghas,unit=u.deg), Angle(decs,unit=u.deg)\n",
    "\n",
    "def semidiameter_correction(body, date, time):\n",
    "    if body == 'SunLL' or 'SunUL':\n",
    "        s = ephem.Sun()\n",
    "        obs = ephem.Observer()\n",
    "        date_string = date + ' ' + time\n",
    "        obs.date = date_string\n",
    "        \n",
    "        s.compute(date_string,epoch=date_string)\n",
    "        # compute SD of sun\n",
    "        sds = s.radius/ephem.pi*180.0 # degrees of arc\n",
    "        if body == 'SunLL':\n",
    "            return Angle('{:.3f}d'.format(sds))\n",
    "        else:\n",
    "            return Angle('{:.3f}d'.format(sds))\n",
    "        \n",
    "    return Angle('0d')\n",
    "        \n",
    "ll_lat = []\n",
    "ll_lon = []\n",
    "# preprocess the array of sights into corrected sightings based on ephemeris from pyephem\n",
    "for i in range(len(db_sights_split)):\n",
    "    ureg = UnitRegistry()\n",
    "    \n",
    "    body, date, time, Hs, WE, IE, height, temp, pressure, DRv, DRheading, latA, lonA = db_sights_split[i].split(',') # split into line elements\n",
    "    # coerce values from strings to objects\n",
    "    # ignores watch error (WE)\n",
    "    Hs = Angle(Hs)\n",
    "    WE = float(WE)\n",
    "    IE = Angle(IE)\n",
    "    height = float(height)*ureg.meter\n",
    "    pressure = ureg.Quantity(float(pressure),ureg.mbar)\n",
    "    temp = ureg.Quantity(float(temp),ureg.degC)\n",
    "    DRv = float(DRv)\n",
    "    DRheading = Angle(DRheading,unit=u.deg) # FIX THIS TO APPROPRIATE COORDINATES\n",
    "    latA = Angle(latA,unit=u.deg)\n",
    "    lonA = Angle(lonA,unit=u.deg)\n",
    "    \n",
    "    # process based on body\n",
    "    if body == 'SunLL':\n",
    "        GHAc, DECc = compute_GHA_DEC(body, date, time)\n",
    "        sd = semidiameter_correction(body, date, time)\n",
    "        print('date: {}'.format(date + ' ' + time))\n",
    "        print('GHA: {}, DEC: {}'.format(GHAc, DECc))\n",
    "        \n",
    "    \n",
    "    # estimate the location\n",
    "    # function def is: est_longitude(body, date, time, Ha, IE, h, temp, pressure, GHA, DEC, latA, lonA):\n",
    "    est_long = est_longitude(body, date, time, Hs, IE, height, temp, pressure, GHAc, DECc, latA, lonA)\n",
    "    print('Estimated longitude is: {:.3f}'.format(est_long))\n",
    "    ll_lat.append(i)\n",
    "    ll_lon.append(est_long.deg)\n",
    "    \n",
    "    # now process the sightings again into corrected sightings and the GHA/DEC values\n",
    "    \n",
    "    \n",
    "# m = Basemap(projection='merc',llcrnrlat=20,urcrnrlat=50,\\\n",
    "#             llcrnrlon=-130,urcrnrlon=-60,lat_ts=20,resolution='i')\n",
    "# m.drawcoastlines()\n",
    "# m.drawcountries()\n",
    "# # draw parallels and meridians.\n",
    "# parallels = np.arange(-90.,91.,5.)\n",
    "# # Label the meridians and parallels\n",
    "# m.drawparallels(parallels,labels=[False,True,True,False])\n",
    "# # Draw Meridians and Labels\n",
    "# meridians = np.arange(-180.,181.,10.)\n",
    "# m.drawmeridians(meridians,labels=[True,False,False,True])\n",
    "# m.drawmapboundary(fill_color='white')\n",
    "# plt.title(\"Forecast {0} days out\".format(day_out))\n",
    "# x,y = m(ll_lon, ll_lat)                            # This is the step that transforms the data into the map's projection\n"
   ]
  },
  {
   "cell_type": "code",
   "execution_count": 10,
   "metadata": {
    "collapsed": false
   },
   "outputs": [
    {
     "data": {
      "image/png": "[encoded data removed]",
      "text/plain": [
       "<matplotlib.figure.Figure at 0xac050f0>"
      ]
     },
     "metadata": {},
     "output_type": "display_data"
    }
   ],
   "source": [
    "plt.plot(ll_lat,ll_lon, 'bo-', markersize=5)\n",
    "plt.show()"
   ]
  }
 ],
 "metadata": {
  "anaconda-cloud": {},
  "kernelspec": {
   "display_name": "Python [default]",
   "language": "python",
   "name": "python3"
  },
  "language_info": {
   "codemirror_mode": {
    "name": "ipython",
    "version": 3
   },
   "file_extension": ".py",
   "mimetype": "text/x-python",
   "name": "python",
   "nbconvert_exporter": "python",
   "pygments_lexer": "ipython3",
   "version": "3.5.2"
  }
 },
 "nbformat": 4,
 "nbformat_minor": 0
}
