{
 "cells": [
  {
   "cell_type": "code",
   "execution_count": 41,
   "metadata": {
    "collapsed": false
   },
   "outputs": [],
   "source": [
    "import numpy as np\n",
    "import datetime as dt\n",
    "from astropy import units as u\n",
    "from astropy.coordinates import Angle\n",
    "from astropy.coordinates import Longitude\n",
    "import pint as pt\n",
    "from pint import UnitRegistry\n",
    "import scipy.optimize\n",
    "import emcee"
   ]
  },
  {
   "cell_type": "code",
   "execution_count": 23,
   "metadata": {
    "collapsed": false
   },
   "outputs": [
    {
     "name": "stdout",
     "output_type": "stream",
     "text": [
      "345d00m00s\n"
     ]
    },
    {
     "data": {
      "text/html": [
       "10.0 millibar"
      ],
      "text/latex": [
       "$10.0 millibar$"
      ],
      "text/plain": [
       "<Quantity(10.0, 'millibar')>"
      ]
     },
     "execution_count": 23,
     "metadata": {},
     "output_type": "execute_result"
    }
   ],
   "source": [
    "a = Longitude('-20d')+Longitude('-355d')\n",
    "print(a)\n",
    "ureg = UnitRegistry()\n",
    "ureg.Quantity(10.0,ureg.degC)\n",
    "ureg.Quantity(10.0,ureg.mbar)"
   ]
  },
  {
   "cell_type": "code",
   "execution_count": 72,
   "metadata": {
    "collapsed": false
   },
   "outputs": [
    {
     "name": "stdout",
     "output_type": "stream",
     "text": [
      "20deg56m37.8696s\n",
      "45deg25m55.8043s\n",
      "-0d03m04.1525s\n",
      "-0d04m11.7869s\n",
      "-25d52m46.7836s\n",
      "-25d48m39.1369s\n"
     ]
    }
   ],
   "source": [
    "def compute_Zo(latA, lonA, GHA, DEC):\n",
    "    # compute LHA from GHA and lonA\n",
    "    LHA = GHA + lonA\n",
    "    Zo_rad = np.arcsin(np.sin(DEC.radian)*np.sin(latA.radian) + np.cos(latA.radian)*np.cos(DEC.radian)*np.cos(LHA.radian))\n",
    "    return Angle(Zo_rad, unit=u.radian)\n",
    "\n",
    "\n",
    "def dip_correction(h):\n",
    "    dip_corr = Angle(-0.0293*np.sqrt(h.to_base_units().magnitude), unit=u.deg)\n",
    "    return dip_corr\n",
    "\n",
    "def index_correction():\n",
    "    return Angle('-0d2.3m')\n",
    "\n",
    "def atmo_correction(Ha = Angle('15d'), P = ureg.Quantity(1010.0,ureg.mbar), T = ureg.Quantity(10.0,ureg.degC)):\n",
    "\n",
    "    Pmb = P.to(ureg.mbar)\n",
    "    TdegC = T.to(ureg.degC)\n",
    "\n",
    "    f = 0.28*Pmb.magnitude/(TdegC.magnitude + 273)\n",
    "    Ro = -0.0167/np.tan(np.pi/180.0*(Ha.deg + 7.31/(Ha.deg + 4.4)))\n",
    "    return Angle(Ro*f,unit=u.deg)\n",
    "\n",
    "def est_longitude(latA, lonA, GHA, DEC, Hs, h = ureg.Quantity(10.0,ureg.feet)):\n",
    "    # use a root-finding algorithm to compute the longitude based on an\n",
    "    # assumed latitude. here, the estimated longitude is to start the root-finding algorithm\n",
    "    est_true_H = (Hs.deg + dip_correction(h).deg + index_correction().deg + atmo_correction(Hs).deg)\n",
    "    #print('Finding Zo for true sextant angle of ' + '{:.3f}'.format(est_true_H) + ' degrees...')\n",
    "    start_H = compute_Zo(latA, lonA, GHA, DEC).deg\n",
    "    #print('Starting from value ' + '{:.3f}'.format(start_H) + ' degrees...')\n",
    "    fz = lambda x: compute_Zo(latA, Angle(x,unit=u.deg), GHA, DEC).deg - (Hs.deg + dip_correction(h).deg + index_correction().deg + atmo_correction(Hs).deg)\n",
    "    sp_out = scipy.optimize.brentq(fz, lonA.deg-5, lonA.deg+5,maxiter=100)\n",
    "\n",
    "    return Angle(sp_out, unit=u.deg)\n",
    "\n",
    "print(compute_Zo(Angle('17d04m'),Angle('-25d48m'),Angle('93d42.2m'),Angle('-0d25.1m')).to_string(unit=u.degree, sep=('deg', 'm', 's')))\n",
    "print(compute_Zo(Angle('17d04m'),Angle('-25d49m'),Angle('356.34d'),Angle('-16d44.4m')).to_string(unit=u.degree, sep=('deg', 'm', 's')))\n",
    "\n",
    "print(dip_correction(10*ureg.feet))\n",
    "\n",
    "print(atmo_correction(Angle('13d')))\n",
    "\n",
    "print(est_longitude(Angle('17d4m'), Angle('-25d48m'), Angle('93d42.2m'), Angle('-0d25.1m'), Angle('21d9m5s'), 10*ureg.feet))\n",
    "print(est_longitude(Angle('17d4m'), Angle('-25d49m'), Angle('356.34d'), Angle('-16d44.4m'), Angle('45d32.5m'), 10*ureg.feet))"
   ]
  },
  {
   "cell_type": "code",
   "execution_count": 86,
   "metadata": {
    "collapsed": false
   },
   "outputs": [
    {
     "name": "stdout",
     "output_type": "stream",
     "text": [
      "5\n"
     ]
    }
   ],
   "source": [
    "#plot run of sun sights\n",
    "\n",
    "import matplotlib\n",
    "import matplotlib.pyplot as plt\n",
    "\n",
    "sun_sights = [\n",
    "    [10*3600+11*60+17.0, Angle('51d07.3m')],\n",
    "    [10*3600+12*60+13, Angle('51d22.1m')],\n",
    "    [10*3600.0+13*60+8, Angle('51d29.8m')],\n",
    "    [10*3600.0+13*60+55.0, Angle('51d39.5m')],\n",
    "    [10*3600+15*60+5.0, Angle('51d48.1m')]\n",
    "]\n",
    "print(len(sun_sights))\n",
    "# process list into 2d array\n",
    "\n",
    "sun_sights_processed = np.zeros((len(sun_sights),2))\n",
    "for i in range(len(sun_sights)):\n",
    "    sun_sights_processed[i,0] = sun_sights[i][0]\n",
    "    sun_sights_processed[i,1] = sun_sights[i][1].deg\n",
    "    \n",
    "plt.plot(sun_sights_processed[:,0],sun_sights_processed[:,1])\n",
    "plt.show()"
   ]
  },
  {
   "cell_type": "code",
   "execution_count": null,
   "metadata": {
    "collapsed": true
   },
   "outputs": [],
   "source": []
  }
 ],
 "metadata": {
  "kernelspec": {
   "display_name": "Python 3",
   "language": "python",
   "name": "python3"
  },
  "language_info": {
   "codemirror_mode": {
    "name": "ipython",
    "version": 3
   },
   "file_extension": ".py",
   "mimetype": "text/x-python",
   "name": "python",
   "nbconvert_exporter": "python",
   "pygments_lexer": "ipython3",
   "version": "3.5.1"
  }
 },
 "nbformat": 4,
 "nbformat_minor": 0
}
