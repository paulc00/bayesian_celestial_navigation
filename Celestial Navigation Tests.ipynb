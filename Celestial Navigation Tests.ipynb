{
 "cells": [
  {
   "cell_type": "code",
   "execution_count": 10,
   "metadata": {
    "collapsed": false
   },
   "outputs": [],
   "source": [
    "import numpy as np\n",
    "import datetime as dt\n",
    "from astropy import units as u\n",
    "from astropy.coordinates import Angle\n",
    "from astropy.coordinates import Longitude\n",
    "import pint as pt\n",
    "from pint import UnitRegistry\n",
    "import scipy.optimize\n",
    "import emcee\n",
    "import ephem\n",
    "import math"
   ]
  },
  {
   "cell_type": "code",
   "execution_count": 2,
   "metadata": {
    "collapsed": false
   },
   "outputs": [
    {
     "name": "stdout",
     "output_type": "stream",
     "text": [
      "345d00m00s\n"
     ]
    },
    {
     "data": {
      "text/html": [
       "10.0 millibar"
      ],
      "text/latex": [
       "$10.0 millibar$"
      ],
      "text/plain": [
       "<Quantity(10.0, 'millibar')>"
      ]
     },
     "execution_count": 2,
     "metadata": {},
     "output_type": "execute_result"
    }
   ],
   "source": [
    "a = Longitude('-20d')+Longitude('-355d')\n",
    "print(a)\n",
    "ureg = UnitRegistry()\n",
    "ureg.Quantity(10.0,ureg.degC)\n",
    "ureg.Quantity(10.0,ureg.mbar)"
   ]
  },
  {
   "cell_type": "code",
   "execution_count": 35,
   "metadata": {
    "collapsed": false
   },
   "outputs": [],
   "source": [
    "def compute_Zo(latA, lonA, GHA, DEC):\n",
    "    # compute LHA from GHA and lonA\n",
    "    LHA = GHA + lonA\n",
    "    Zo_rad = np.arcsin(np.sin(DEC.radian)*np.sin(latA.radian) + np.cos(latA.radian)*np.cos(DEC.radian)*np.cos(LHA.radian))\n",
    "    return Angle(Zo_rad, unit=u.radian)\n",
    "\n",
    "\n",
    "def dip_correction(h):\n",
    "    dip_corr = Angle(-0.0293*np.sqrt(h.to_base_units().magnitude), unit=u.deg)\n",
    "    return dip_corr\n",
    "\n",
    "def index_correction(IE):\n",
    "    return Angle('-{.3f}d'.format(IE*60.0))\n",
    "\n",
    "def atmo_correction(Ha = Angle('15d'), P = ureg.Quantity(1010.0,ureg.mbar), T = ureg.Quantity(10.0,ureg.degC)):\n",
    "\n",
    "    Pmb = P.to(ureg.mbar)\n",
    "    TdegC = T.to(ureg.degC)\n",
    "\n",
    "    f = 0.28*Pmb.magnitude/(TdegC.magnitude + 273)\n",
    "    Ro = -0.0167/np.tan(np.pi/180.0*(Ha.deg + 7.31/(Ha.deg + 4.4)))\n",
    "    return Angle(Ro*f,unit=u.deg)\n",
    "\n",
    "def est_longitude(body, date, time, Hs, IE, h, GHA, DEC, latA, lonA):\n",
    "    # use a root-finding algorithm to compute the longitude based on an\n",
    "    # assumed latitude. here, the estimated longitude is to start the root-finding algorithm\n",
    "    print(repr(dip_correction(h)))\n",
    "    est_true_H = (Hs.deg + dip_correction(h).deg + index_correction(IE).deg + atmo_correction(Hs).deg + semidiameter_correction(body, date, time))\n",
    "    #print('Finding Zo for true sextant angle of ' + '{:.3f}'.format(est_true_H) + ' degrees...')\n",
    "    start_H = compute_Zo(latA, lonA, GHA, DEC).deg\n",
    "    #print('Starting from value ' + '{:.3f}'.format(start_H) + ' degrees...')\n",
    "    fz = lambda x: compute_Zo(latA, Angle(x,unit=u.deg), GHA, DEC).deg - (Hs.deg + dip_correction(h).deg + index_correction().deg + atmo_correction(Hs).deg)\n",
    "    sp_out = scipy.optimize.brentq(fz, lonA.deg-5, lonA.deg+5,maxiter=100)\n",
    "\n",
    "    return Angle(sp_out, unit=u.deg)\n",
    "\n",
    "#print(compute_Zo(Angle('17d04m'),Angle('-25d48m'),Angle('93d42.2m'),Angle('-0d25.1m')).to_string(unit=u.degree, sep=('deg', 'm', 's')))\n",
    "#print(compute_Zo(Angle('17d04m'),Angle('-25d49m'),Angle('356.34d'),Angle('-16d44.4m')).to_string(unit=u.degree, sep=('deg', 'm', 's')))\n",
    "\n",
    "#print(dip_correction(10*ureg.feet))\n",
    "\n",
    "#print(atmo_correction(Angle('13d')))\n",
    "\n",
    "#print(est_longitude(Angle('17d4m'), Angle('-25d48m'), Angle('93d42.2m'), Angle('-0d25.1m'), Angle('21d9m5s'), 10*ureg.feet))\n",
    "#print(est_longitude(Angle('17d4m'), Angle('-25d49m'), Angle('356.34d'), Angle('-16d44.4m'), Angle('45d32.5m'), 10*ureg.feet))"
   ]
  },
  {
   "cell_type": "code",
   "execution_count": 7,
   "metadata": {
    "collapsed": false
   },
   "outputs": [
    {
     "name": "stdout",
     "output_type": "stream",
     "text": [
      "5\n"
     ]
    },
    {
     "data": {
      "image/png": "[encoded data removed]",
      "text/plain": [
       "<matplotlib.figure.Figure at 0x4dbdb00>"
      ]
     },
     "metadata": {},
     "output_type": "display_data"
    }
   ],
   "source": [
    "#plot run of sun sights\n",
    "\n",
    "import matplotlib\n",
    "import matplotlib.pyplot as plt\n",
    "\n",
    "sun_sights = [\n",
    "    [10*3600+11*60+17.0, Angle('51d07.3m')],\n",
    "    [10*3600+12*60+13, Angle('51d22.1m')],\n",
    "    [10*3600.0+13*60+8, Angle('51d29.8m')],\n",
    "    [10*3600.0+13*60+55.0, Angle('51d39.5m')],\n",
    "    [10*3600+15*60+5.0, Angle('51d48.1m')]\n",
    "]\n",
    "print(len(sun_sights))\n",
    "# process list into 2d array\n",
    "\n",
    "sun_sights_processed = np.zeros((len(sun_sights),2))\n",
    "for i in range(len(sun_sights)):\n",
    "    sun_sights_processed[i,0] = sun_sights[i][0]\n",
    "    sun_sights_processed[i,1] = sun_sights[i][1].deg\n",
    "    \n",
    "plt.plot(sun_sights_processed[:,0],sun_sights_processed[:,1])\n",
    "plt.show()"
   ]
  },
  {
   "cell_type": "code",
   "execution_count": 37,
   "metadata": {
    "collapsed": false
   },
   "outputs": [
    {
     "name": "stdout",
     "output_type": "stream",
     "text": [
      "date: 2015/02/21 12:00:00\n",
      "GHA: 356d35.7m, DEC: -10d34.3m\n",
      "semidiameter: 0.27 deg\n",
      "<Angle -0.045768063100812995 deg>\n"
     ]
    },
    {
     "ename": "AttributeError",
     "evalue": "'str' object has no attribute 'deg'",
     "output_type": "error",
     "traceback": [
      "\u001b[0;31m---------------------------------------------------------------------------\u001b[0m",
      "\u001b[0;31mAttributeError\u001b[0m                            Traceback (most recent call last)",
      "\u001b[0;32m<ipython-input-37-ce831b5e5810>\u001b[0m in \u001b[0;36m<module>\u001b[0;34m()\u001b[0m\n\u001b[1;32m     71\u001b[0m     \u001b[1;31m# estimate the location\u001b[0m\u001b[1;33m\u001b[0m\u001b[1;33m\u001b[0m\u001b[0m\n\u001b[1;32m     72\u001b[0m     \u001b[1;31m# function def is: est_longitude(body, date, time, Hs, IE, h, GHA, DEC, latA, lonA):\u001b[0m\u001b[1;33m\u001b[0m\u001b[1;33m\u001b[0m\u001b[0m\n\u001b[0;32m---> 73\u001b[0;31m     \u001b[0mest_long\u001b[0m \u001b[1;33m=\u001b[0m \u001b[0mest_longitude\u001b[0m\u001b[1;33m(\u001b[0m\u001b[0mbody\u001b[0m\u001b[1;33m,\u001b[0m \u001b[0mdate\u001b[0m\u001b[1;33m,\u001b[0m \u001b[0mtime\u001b[0m\u001b[1;33m,\u001b[0m \u001b[0mHs\u001b[0m\u001b[1;33m,\u001b[0m \u001b[0mIE\u001b[0m\u001b[1;33m,\u001b[0m \u001b[0mfloat\u001b[0m\u001b[1;33m(\u001b[0m\u001b[0mheight\u001b[0m\u001b[1;33m)\u001b[0m\u001b[1;33m*\u001b[0m\u001b[0mureg\u001b[0m\u001b[1;33m.\u001b[0m\u001b[0mmeter\u001b[0m\u001b[1;33m,\u001b[0m \u001b[0mGHAc\u001b[0m\u001b[1;33m,\u001b[0m \u001b[0mDECc\u001b[0m\u001b[1;33m,\u001b[0m \u001b[0mlatA\u001b[0m\u001b[1;33m,\u001b[0m \u001b[0mlonA\u001b[0m\u001b[1;33m)\u001b[0m\u001b[1;33m\u001b[0m\u001b[0m\n\u001b[0m\u001b[1;32m     74\u001b[0m \u001b[1;33m\u001b[0m\u001b[0m\n",
      "\u001b[0;32m<ipython-input-35-76e6be833773>\u001b[0m in \u001b[0;36mest_longitude\u001b[0;34m(body, date, time, Hs, IE, h, GHA, DEC, latA, lonA)\u001b[0m\n\u001b[1;32m     26\u001b[0m     \u001b[1;31m# assumed latitude. here, the estimated longitude is to start the root-finding algorithm\u001b[0m\u001b[1;33m\u001b[0m\u001b[1;33m\u001b[0m\u001b[0m\n\u001b[1;32m     27\u001b[0m     \u001b[0mprint\u001b[0m\u001b[1;33m(\u001b[0m\u001b[0mrepr\u001b[0m\u001b[1;33m(\u001b[0m\u001b[0mdip_correction\u001b[0m\u001b[1;33m(\u001b[0m\u001b[0mh\u001b[0m\u001b[1;33m)\u001b[0m\u001b[1;33m)\u001b[0m\u001b[1;33m)\u001b[0m\u001b[1;33m\u001b[0m\u001b[0m\n\u001b[0;32m---> 28\u001b[0;31m     \u001b[0mest_true_H\u001b[0m \u001b[1;33m=\u001b[0m \u001b[1;33m(\u001b[0m\u001b[0mHs\u001b[0m\u001b[1;33m.\u001b[0m\u001b[0mdeg\u001b[0m \u001b[1;33m+\u001b[0m \u001b[0mdip_correction\u001b[0m\u001b[1;33m(\u001b[0m\u001b[0mh\u001b[0m\u001b[1;33m)\u001b[0m\u001b[1;33m.\u001b[0m\u001b[0mdeg\u001b[0m \u001b[1;33m+\u001b[0m \u001b[0mindex_correction\u001b[0m\u001b[1;33m(\u001b[0m\u001b[0mIE\u001b[0m\u001b[1;33m)\u001b[0m\u001b[1;33m.\u001b[0m\u001b[0mdeg\u001b[0m \u001b[1;33m+\u001b[0m \u001b[0matmo_correction\u001b[0m\u001b[1;33m(\u001b[0m\u001b[0mHs\u001b[0m\u001b[1;33m)\u001b[0m\u001b[1;33m.\u001b[0m\u001b[0mdeg\u001b[0m \u001b[1;33m+\u001b[0m \u001b[0msemidiameter_correction\u001b[0m\u001b[1;33m(\u001b[0m\u001b[0mbody\u001b[0m\u001b[1;33m,\u001b[0m \u001b[0mdate\u001b[0m\u001b[1;33m,\u001b[0m \u001b[0mtime\u001b[0m\u001b[1;33m)\u001b[0m\u001b[1;33m)\u001b[0m\u001b[1;33m\u001b[0m\u001b[0m\n\u001b[0m\u001b[1;32m     29\u001b[0m     \u001b[1;31m#print('Finding Zo for true sextant angle of ' + '{:.3f}'.format(est_true_H) + ' degrees...')\u001b[0m\u001b[1;33m\u001b[0m\u001b[1;33m\u001b[0m\u001b[0m\n\u001b[1;32m     30\u001b[0m     \u001b[0mstart_H\u001b[0m \u001b[1;33m=\u001b[0m \u001b[0mcompute_Zo\u001b[0m\u001b[1;33m(\u001b[0m\u001b[0mlatA\u001b[0m\u001b[1;33m,\u001b[0m \u001b[0mlonA\u001b[0m\u001b[1;33m,\u001b[0m \u001b[0mGHA\u001b[0m\u001b[1;33m,\u001b[0m \u001b[0mDEC\u001b[0m\u001b[1;33m)\u001b[0m\u001b[1;33m.\u001b[0m\u001b[0mdeg\u001b[0m\u001b[1;33m\u001b[0m\u001b[0m\n",
      "\u001b[0;31mAttributeError\u001b[0m: 'str' object has no attribute 'deg'"
     ]
    }
   ],
   "source": [
    "# 'database' of sightings for reduction into a single lat/long pair + course speed/heading\n",
    "\n",
    "db_sights = \"\"\"\\\n",
    "SunLL,2015/02/21,12:00:00,51d07.3m,0.0,2.0m,2.44,5.5,270d,17d4m,-27d7m\n",
    "SunLL,2015/02/22,12:00:00,51d22.1m,0.0,2.0m,2.44,5.5,270d,17d4m,-27d7m\n",
    "SunLL,2015/02/22,12:13:08,51d29.8m,0.0,2.0m,2.44,5.5,270d,17d4m,-27d7m\n",
    "SunLL,2015/02/22,12:13:55,51d39.5m,0.0,2.0m,2.44,5.5,270d,17d4m,-27d7m\n",
    "SunLL,2015/02/22,12:15:05,51d39.5m,0.0,2.0m,2.44,5.5,270d,17d4m,-27d7m\n",
    "\"\"\"\n",
    "\n",
    "db_sights_split = db_sights.split('\\n')\n",
    "# remove last element\n",
    "del db_sights_split[-1]\n",
    "\n",
    "def nadeg(deg):\n",
    "    #changes ephem.angel (rad) to the format for the Angle class.\n",
    "    theminus = \"\"\n",
    "    if deg < 0:\n",
    "    \ttheminus = \"-\"\n",
    "    g = int(math.degrees(deg))\n",
    "    m = (math.degrees(deg)-g)*60\n",
    "    gm = \"%s%sd%04.1fm\" %(theminus,abs(g),abs(m))\n",
    "    return gm\n",
    "\n",
    "def compute_GHA_DEC(body, date, time):\n",
    "    if body == 'SunLL' or 'SunUL':\n",
    "        s = ephem.Sun()\n",
    "        obs = ephem.Observer()\n",
    "        date_string = date + ' ' + time\n",
    "        obs.date = date_string\n",
    "        \n",
    "        s.compute(date_string,epoch=date_string)\n",
    "\n",
    "        deg = ephem.degrees(obs.sidereal_time()-s.g_ra).norm\n",
    "        ghas = nadeg(deg)\n",
    "        deg = s.g_dec\n",
    "        decs = nadeg(deg)\n",
    "\n",
    "    return ghas, decs\n",
    "\n",
    "def semidiameter_correction(body, date, time):\n",
    "    if body == 'SunLL' or 'SunUL':\n",
    "        s = ephem.Sun()\n",
    "        obs = ephem.Observer()\n",
    "        date_string = date + ' ' + time\n",
    "        obs.date = date_string\n",
    "        \n",
    "        s.compute(date_string,epoch=date_string)\n",
    "        # compute SD of sun\n",
    "        sds = s.radius/ephem.pi*180.0 # degrees of arc\n",
    "        if body == 'SunLL':\n",
    "            return Angle('{:.3f}d'.format(sds))\n",
    "        else:\n",
    "            return Angle('{:.3f}d'.format(sds))\n",
    "        \n",
    "    return Angle('0d')\n",
    "        \n",
    "\n",
    "# preprocess the array of sights into corrected sightings based on ephemeris from pyephem\n",
    "for i in range(len(db_sights_split)):\n",
    "    body, date, time, Hs, WE, IE, height, DRv, DRheading, latA, lonA = db_sights_split[i].split(',') # split into line elements\n",
    "    # coerce values from strings to objects\n",
    "    # ignores watch error (WE)\n",
    "    WE = float(WE)\n",
    "    IE = float(IE)\n",
    "    height = float(height)*ureg.meter\n",
    "    DRv = float(DRv)\n",
    "    DRheading = Angle(DRheading,unit=u.deg) # FIX THIS TO APPROPRIATE COORDINATES\n",
    "    latA = Angle(latA,unit=u.deg)\n",
    "    lonA = Angle(lonA,unit=u.deg)\n",
    "    \n",
    "    # process based on body\n",
    "    if body == 'SunLL':\n",
    "        GHAc, DECc = compute_GHA_DEC(body, date, time)\n",
    "        sd = semidiameter_correction(body, date, time)\n",
    "        print('date: {}'.format(date + ' ' + time))\n",
    "        print('GHA: {}, DEC: {}'.format(GHAc, DECc))\n",
    "        print('semidiameter: {}'.format(sd))\n",
    "    \n",
    "    # estimate the location\n",
    "    # function def is: est_longitude(body, date, time, Hs, IE, h, GHA, DEC, latA, lonA):\n",
    "    est_long = est_longitude(body, date, time, Hs, IE, float(height)*ureg.meter, GHAc, DECc, latA, lonA)\n",
    "    "
   ]
  }
 ],
 "metadata": {
  "anaconda-cloud": {},
  "kernelspec": {
   "display_name": "Python [default]",
   "language": "python",
   "name": "python3"
  },
  "language_info": {
   "codemirror_mode": {
    "name": "ipython",
    "version": 3
   },
   "file_extension": ".py",
   "mimetype": "text/x-python",
   "name": "python",
   "nbconvert_exporter": "python",
   "pygments_lexer": "ipython3",
   "version": "3.5.2"
  }
 },
 "nbformat": 4,
 "nbformat_minor": 0
}
