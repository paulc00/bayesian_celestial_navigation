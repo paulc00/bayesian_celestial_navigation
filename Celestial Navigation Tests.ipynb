{
 "cells": [
  {
   "cell_type": "code",
   "execution_count": 158,
   "metadata": {
    "collapsed": false
   },
   "outputs": [
    {
     "ename": "ImportError",
     "evalue": "No module named 'mpl_toolkits.basemap'",
     "output_type": "error",
     "traceback": [
      "\u001b[0;31m---------------------------------------------------------------------------\u001b[0m",
      "\u001b[0;31mImportError\u001b[0m                               Traceback (most recent call last)",
      "\u001b[0;32m<ipython-input-158-18012915b38f>\u001b[0m in \u001b[0;36m<module>\u001b[0;34m()\u001b[0m\n\u001b[1;32m     13\u001b[0m \u001b[1;32mimport\u001b[0m \u001b[0mmatplotlib\u001b[0m\u001b[1;33m\u001b[0m\u001b[0m\n\u001b[1;32m     14\u001b[0m \u001b[1;32mimport\u001b[0m \u001b[0mmatplotlib\u001b[0m\u001b[1;33m.\u001b[0m\u001b[0mpyplot\u001b[0m \u001b[1;32mas\u001b[0m \u001b[0mplt\u001b[0m\u001b[1;33m\u001b[0m\u001b[0m\n\u001b[0;32m---> 15\u001b[0;31m \u001b[1;32mfrom\u001b[0m \u001b[0mmpl_toolkits\u001b[0m\u001b[1;33m.\u001b[0m\u001b[0mbasemap\u001b[0m \u001b[1;32mimport\u001b[0m \u001b[0mBasemap\u001b[0m\u001b[1;33m\u001b[0m\u001b[0m\n\u001b[0m",
      "\u001b[0;31mImportError\u001b[0m: No module named 'mpl_toolkits.basemap'"
     ]
    }
   ],
   "source": [
    "import numpy as np\n",
    "import datetime as dt\n",
    "from astropy import units as u\n",
    "from astropy.coordinates import Angle\n",
    "from astropy.coordinates import Longitude\n",
    "import pint as pt\n",
    "from pint import UnitRegistry\n",
    "import scipy.optimize\n",
    "import emcee\n",
    "import ephem\n",
    "import math\n",
    "\n",
    "import matplotlib\n",
    "import matplotlib.pyplot as plt\n",
    "from mpl_toolkits.basemap import Basemap"
   ]
  },
  {
   "cell_type": "code",
   "execution_count": 2,
   "metadata": {
    "collapsed": false
   },
   "outputs": [
    {
     "name": "stdout",
     "output_type": "stream",
     "text": [
      "345d00m00s\n"
     ]
    },
    {
     "data": {
      "text/html": [
       "10.0 millibar"
      ],
      "text/latex": [
       "$10.0 millibar$"
      ],
      "text/plain": [
       "<Quantity(10.0, 'millibar')>"
      ]
     },
     "execution_count": 2,
     "metadata": {},
     "output_type": "execute_result"
    }
   ],
   "source": [
    "a = Longitude('-20d')+Longitude('-355d')\n",
    "print(a)\n",
    "ureg = UnitRegistry()\n",
    "ureg.Quantity(10.0,ureg.degC)\n",
    "ureg.Quantity(10.0,ureg.mbar)"
   ]
  },
  {
   "cell_type": "code",
   "execution_count": 166,
   "metadata": {
    "collapsed": false
   },
   "outputs": [],
   "source": [
    "def compute_Hc(latA, lonA, GHA, DEC):\n",
    "    # compute LHA from GHA and lonA\n",
    "    LHA = GHA + lonA\n",
    "    Hc_rad = np.arcsin(np.sin(DEC.radian)*np.sin(latA.radian) + np.cos(latA.radian)*np.cos(DEC.radian)*np.cos(LHA.radian))\n",
    "    return Angle(Hc_rad, unit=u.radian)\n",
    "\n",
    "\n",
    "def dip_correction(h):\n",
    "    dip_corr = Angle(-0.0293*np.sqrt(h.to_base_units().magnitude), unit=u.deg)\n",
    "    return dip_corr\n",
    "\n",
    "def index_correction(IE):\n",
    "    return -1*IE\n",
    "\n",
    "def atmo_correction(Ha, T, P):\n",
    "    ureg = UnitRegistry()\n",
    "    Pmb = P.to(ureg.mbar)\n",
    "    TdegC = T.to(ureg.degC)\n",
    "\n",
    "    f = 0.28*Pmb.magnitude/(TdegC.magnitude + 273)\n",
    "    Ro = -0.0167/np.tan(np.pi/180.0*(Ha.deg + 7.31/(Ha.deg + 4.4)))\n",
    "    return Angle(Ro*f,unit=u.deg)\n",
    "\n",
    "def dead_reckon(lat_init, lon_init, DRv, DRheading, time):\n",
    "    # compute lat velocity\n",
    "    lat_v = DRv*np.sin(DRheading.radian)\n",
    "    lon_v = DRv*np.cos(DRheading.radian)/np.cos(lat_init.radian) # corrects for lattitude\n",
    "    # now increment linearly based on time\n",
    "    return lat_init + lat_v*time, lon_init + lon_v*time\n",
    "\n",
    "def est_longitude(body, date, time, Hs, IE, h, temp, pressure, GHA, DEC, latA, lonA):\n",
    "    # use a root-finding algorithm to compute the longitude based on an\n",
    "    # assumed latitude. here, the estimated longitude is to start the root-finding algorithm\n",
    "    print(repr(Hs))\n",
    "\n",
    "    est_true_H = (Hs.deg + dip_correction(h).deg + index_correction(IE).deg + atmo_correction(Hs, temp, pressure).deg + semidiameter_correction(body, date, time).deg)\n",
    "    print('Finding Zo for true sextant angle of ' + '{:.3f}'.format(est_true_H) + ' degrees...')\n",
    "    \n",
    "    start_H = compute_Hc(latA, lonA, GHA, DEC).deg\n",
    "    lower_H = compute_Hc(latA, Angle(lonA.deg-2,unit=u.deg), GHA, DEC).deg\n",
    "    \n",
    "    upper_H = compute_Hc(latA, Angle(lonA.deg+2,unit=u.deg), GHA, DEC).deg\n",
    "    \n",
    "    print('Starting from value ' + '{:.3f}'.format(start_H) + ' degrees, with lower {:.3f} and upper {:.3f}.'.format(lower_H,upper_H))\n",
    "    \n",
    "    fz = lambda x: (compute_Hc(latA, Angle(x,unit=u.deg), GHA, DEC).deg - (Hs.deg + dip_correction(h).deg + index_correction(IE).deg + atmo_correction(Hs, temp, pressure).deg + semidiameter_correction(body, date, time).deg))\n",
    "    #print('fz(a) is {:.3f}, fz(b) is {:.3f}'.format(fz(lonA.deg-2),fz(lonA.deg+2)))\n",
    "    #spn_out = scipy.optimize.newton(fz, lonA.deg, maxiter=200)\n",
    "    sp_out = scipy.optimize.brentq(fz, lonA.deg-2.0, lonA.deg+2.0,maxiter=100)\n",
    "    \n",
    "    #sp_out = scipy.optimize.minimize_scalar(fz, bracket=[lonA.deg-2.0,lonA.deg+2.0], method='brent', tol=1.48e-06)\n",
    "    \n",
    "    return Angle(spn_out, unit=u.deg)\n",
    "\n",
    "def Hs_predict(times, IE, h, temp, pressure, GHA, DEC, DRv, DRheading, latA, lonA):\n",
    "    '''\n",
    "    times -- numpy array of time values in seconds, starting with 0.0 always\n",
    "    \n",
    "    \n",
    "    '''\n",
    "    \n",
    "    Hc = compute_Hc(latA, lonA, GHA, DEC)\n",
    "    est_Hs = (Hc.deg - dip_correction(h).deg - index_correction(IE).deg - atmo_correction(Hc, temp, pressure).deg - semidiameter_correction(body, date, time).deg)\n",
    "    return est_Hs\n"
   ]
  },
  {
   "cell_type": "code",
   "execution_count": 7,
   "metadata": {
    "collapsed": false
   },
   "outputs": [
    {
     "name": "stdout",
     "output_type": "stream",
     "text": [
      "5\n"
     ]
    },
    {
     "data": {
      "image/png": "[encoded data removed]",
      "text/plain": [
       "<matplotlib.figure.Figure at 0x4dbdb00>"
      ]
     },
     "metadata": {},
     "output_type": "display_data"
    }
   ],
   "source": [
    "#plot run of sun sights\n",
    "\n",
    "\n",
    "sun_sights = [\n",
    "    [10*3600+11*60+17.0, Angle('51d07.3m')],\n",
    "    [10*3600+12*60+13, Angle('51d22.1m')],\n",
    "    [10*3600.0+13*60+8, Angle('51d29.8m')],\n",
    "    [10*3600.0+13*60+55.0, Angle('51d39.5m')],\n",
    "    [10*3600+15*60+5.0, Angle('51d48.1m')]\n",
    "]\n",
    "print(len(sun_sights))\n",
    "# process list into 2d array\n",
    "\n",
    "sun_sights_processed = np.zeros((len(sun_sights),2))\n",
    "for i in range(len(sun_sights)):\n",
    "    sun_sights_processed[i,0] = sun_sights[i][0]\n",
    "    sun_sights_processed[i,1] = sun_sights[i][1].deg\n",
    "    \n",
    "plt.plot(sun_sights_processed[:,0],sun_sights_processed[:,1])\n",
    "plt.show()"
   ]
  },
  {
   "cell_type": "code",
   "execution_count": 167,
   "metadata": {
    "collapsed": false
   },
   "outputs": [
    {
     "name": "stdout",
     "output_type": "stream",
     "text": [
      "date: 2015/02/22 12:11:17\n",
      "GHA: 359.44666666666666 deg, DEC: -10.205 deg\n",
      "<Angle 51.12166666666667 deg>\n",
      "Finding Zo for true sextant angle of 51.299 degrees...\n",
      "Starting from value 51.601 degrees, with lower 50.168 and upper 52.985.\n",
      "fz(a) is -1.131, fz(b) is 1.686\n",
      "Estimated longitude is: -27.544 deg\n",
      "date: 2015/02/22 12:12:13\n",
      "GHA: 359.68 deg, DEC: -10.205 deg\n",
      "<Angle 51.36833333333333 deg>\n",
      "Finding Zo for true sextant angle of 51.546 degrees...\n",
      "Starting from value 51.765 degrees, with lower 50.337 and upper 53.142.\n",
      "fz(a) is -1.208, fz(b) is 1.597\n",
      "Estimated longitude is: -27.429 deg\n",
      "date: 2015/02/22 12:13:08\n",
      "GHA: 359.90833333333336 deg, DEC: -10.205 deg\n",
      "<Angle 51.49666666666667 deg>\n",
      "Finding Zo for true sextant angle of 51.674 degrees...\n",
      "Starting from value 51.925 degrees, with lower 50.503 and upper 53.296.\n",
      "fz(a) is -1.171, fz(b) is 1.622\n",
      "Estimated longitude is: -27.475 deg\n",
      "date: 2015/02/22 12:13:55\n",
      "GHA: 0.105 deg, DEC: -10.205 deg\n",
      "<Angle 51.65833333333333 deg>\n",
      "Finding Zo for true sextant angle of 51.836 degrees...\n",
      "Starting from value 52.062 degrees, with lower 50.645 and upper 53.428.\n",
      "fz(a) is -1.191, fz(b) is 1.592\n"
     ]
    },
    {
     "ename": "KeyboardInterrupt",
     "evalue": "",
     "output_type": "error",
     "traceback": [
      "\u001b[0;31m---------------------------------------------------------------------------\u001b[0m",
      "\u001b[0;31mKeyboardInterrupt\u001b[0m                         Traceback (most recent call last)",
      "\u001b[0;32m<ipython-input-167-911828de6a7a>\u001b[0m in \u001b[0;36m<module>\u001b[0;34m()\u001b[0m\n\u001b[1;32m     88\u001b[0m     \u001b[1;31m# estimate the location\u001b[0m\u001b[1;33m\u001b[0m\u001b[1;33m\u001b[0m\u001b[0m\n\u001b[1;32m     89\u001b[0m     \u001b[1;31m# function def is: est_longitude(body, date, time, Ha, IE, h, temp, pressure, GHA, DEC, latA, lonA):\u001b[0m\u001b[1;33m\u001b[0m\u001b[1;33m\u001b[0m\u001b[0m\n\u001b[0;32m---> 90\u001b[0;31m     \u001b[0mest_long\u001b[0m \u001b[1;33m=\u001b[0m \u001b[0mest_longitude\u001b[0m\u001b[1;33m(\u001b[0m\u001b[0mbody\u001b[0m\u001b[1;33m,\u001b[0m \u001b[0mdate\u001b[0m\u001b[1;33m,\u001b[0m \u001b[0mtime\u001b[0m\u001b[1;33m,\u001b[0m \u001b[0mHs\u001b[0m\u001b[1;33m,\u001b[0m \u001b[0mIE\u001b[0m\u001b[1;33m,\u001b[0m \u001b[0mheight\u001b[0m\u001b[1;33m,\u001b[0m \u001b[0mtemp\u001b[0m\u001b[1;33m,\u001b[0m \u001b[0mpressure\u001b[0m\u001b[1;33m,\u001b[0m \u001b[0mGHAc\u001b[0m\u001b[1;33m,\u001b[0m \u001b[0mDECc\u001b[0m\u001b[1;33m,\u001b[0m \u001b[0mlatA\u001b[0m\u001b[1;33m,\u001b[0m \u001b[0mlonA\u001b[0m\u001b[1;33m)\u001b[0m\u001b[1;33m\u001b[0m\u001b[0m\n\u001b[0m\u001b[1;32m     91\u001b[0m     \u001b[0mprint\u001b[0m\u001b[1;33m(\u001b[0m\u001b[1;34m'Estimated longitude is: {:.3f}'\u001b[0m\u001b[1;33m.\u001b[0m\u001b[0mformat\u001b[0m\u001b[1;33m(\u001b[0m\u001b[0mest_long\u001b[0m\u001b[1;33m)\u001b[0m\u001b[1;33m)\u001b[0m\u001b[1;33m\u001b[0m\u001b[0m\n\u001b[1;32m     92\u001b[0m     \u001b[0mll_lat\u001b[0m\u001b[1;33m.\u001b[0m\u001b[0mappend\u001b[0m\u001b[1;33m(\u001b[0m\u001b[0mi\u001b[0m\u001b[1;33m)\u001b[0m\u001b[1;33m\u001b[0m\u001b[0m\n",
      "\u001b[0;32m<ipython-input-166-46cc8e7a180e>\u001b[0m in \u001b[0;36mest_longitude\u001b[0;34m(body, date, time, Hs, IE, h, temp, pressure, GHA, DEC, latA, lonA)\u001b[0m\n\u001b[1;32m     47\u001b[0m     \u001b[0mprint\u001b[0m\u001b[1;33m(\u001b[0m\u001b[1;34m'fz(a) is {:.3f}, fz(b) is {:.3f}'\u001b[0m\u001b[1;33m.\u001b[0m\u001b[0mformat\u001b[0m\u001b[1;33m(\u001b[0m\u001b[0mfz\u001b[0m\u001b[1;33m(\u001b[0m\u001b[0mlonA\u001b[0m\u001b[1;33m.\u001b[0m\u001b[0mdeg\u001b[0m\u001b[1;33m-\u001b[0m\u001b[1;36m2\u001b[0m\u001b[1;33m)\u001b[0m\u001b[1;33m,\u001b[0m\u001b[0mfz\u001b[0m\u001b[1;33m(\u001b[0m\u001b[0mlonA\u001b[0m\u001b[1;33m.\u001b[0m\u001b[0mdeg\u001b[0m\u001b[1;33m+\u001b[0m\u001b[1;36m2\u001b[0m\u001b[1;33m)\u001b[0m\u001b[1;33m)\u001b[0m\u001b[1;33m)\u001b[0m\u001b[1;33m\u001b[0m\u001b[0m\n\u001b[1;32m     48\u001b[0m     \u001b[0mspn_out\u001b[0m \u001b[1;33m=\u001b[0m \u001b[0mscipy\u001b[0m\u001b[1;33m.\u001b[0m\u001b[0moptimize\u001b[0m\u001b[1;33m.\u001b[0m\u001b[0mnewton\u001b[0m\u001b[1;33m(\u001b[0m\u001b[0mfz\u001b[0m\u001b[1;33m,\u001b[0m \u001b[0mlonA\u001b[0m\u001b[1;33m.\u001b[0m\u001b[0mdeg\u001b[0m\u001b[1;33m,\u001b[0m \u001b[0mmaxiter\u001b[0m\u001b[1;33m=\u001b[0m\u001b[1;36m200\u001b[0m\u001b[1;33m)\u001b[0m\u001b[1;33m\u001b[0m\u001b[0m\n\u001b[0;32m---> 49\u001b[0;31m     \u001b[0msp_out\u001b[0m \u001b[1;33m=\u001b[0m \u001b[0mscipy\u001b[0m\u001b[1;33m.\u001b[0m\u001b[0moptimize\u001b[0m\u001b[1;33m.\u001b[0m\u001b[0mbrentq\u001b[0m\u001b[1;33m(\u001b[0m\u001b[0mfz\u001b[0m\u001b[1;33m,\u001b[0m \u001b[0mlonA\u001b[0m\u001b[1;33m.\u001b[0m\u001b[0mdeg\u001b[0m\u001b[1;33m-\u001b[0m\u001b[1;36m2.0\u001b[0m\u001b[1;33m,\u001b[0m \u001b[0mlonA\u001b[0m\u001b[1;33m.\u001b[0m\u001b[0mdeg\u001b[0m\u001b[1;33m+\u001b[0m\u001b[1;36m2.0\u001b[0m\u001b[1;33m,\u001b[0m\u001b[0mmaxiter\u001b[0m\u001b[1;33m=\u001b[0m\u001b[1;36m100\u001b[0m\u001b[1;33m)\u001b[0m\u001b[1;33m\u001b[0m\u001b[0m\n\u001b[0m\u001b[1;32m     50\u001b[0m \u001b[1;33m\u001b[0m\u001b[0m\n\u001b[1;32m     51\u001b[0m     \u001b[1;31m#sp_out = scipy.optimize.minimize_scalar(fz, bracket=[lonA.deg-2.0,lonA.deg+2.0], method='brent', tol=1.48e-06)\u001b[0m\u001b[1;33m\u001b[0m\u001b[1;33m\u001b[0m\u001b[0m\n",
      "\u001b[0;32mC:\\Users\\David\\Anaconda3\\lib\\site-packages\\scipy\\optimize\\zeros.py\u001b[0m in \u001b[0;36mbrentq\u001b[0;34m(f, a, b, args, xtol, rtol, maxiter, full_output, disp)\u001b[0m\n\u001b[1;32m    440\u001b[0m     \u001b[1;32mif\u001b[0m \u001b[0mrtol\u001b[0m \u001b[1;33m<\u001b[0m \u001b[0m_rtol\u001b[0m\u001b[1;33m:\u001b[0m\u001b[1;33m\u001b[0m\u001b[0m\n\u001b[1;32m    441\u001b[0m         \u001b[1;32mraise\u001b[0m \u001b[0mValueError\u001b[0m\u001b[1;33m(\u001b[0m\u001b[1;34m\"rtol too small (%g < %g)\"\u001b[0m \u001b[1;33m%\u001b[0m \u001b[1;33m(\u001b[0m\u001b[0mrtol\u001b[0m\u001b[1;33m,\u001b[0m \u001b[0m_rtol\u001b[0m\u001b[1;33m)\u001b[0m\u001b[1;33m)\u001b[0m\u001b[1;33m\u001b[0m\u001b[0m\n\u001b[0;32m--> 442\u001b[0;31m     \u001b[0mr\u001b[0m \u001b[1;33m=\u001b[0m \u001b[0m_zeros\u001b[0m\u001b[1;33m.\u001b[0m\u001b[0m_brentq\u001b[0m\u001b[1;33m(\u001b[0m\u001b[0mf\u001b[0m\u001b[1;33m,\u001b[0m\u001b[0ma\u001b[0m\u001b[1;33m,\u001b[0m\u001b[0mb\u001b[0m\u001b[1;33m,\u001b[0m\u001b[0mxtol\u001b[0m\u001b[1;33m,\u001b[0m\u001b[0mrtol\u001b[0m\u001b[1;33m,\u001b[0m\u001b[0mmaxiter\u001b[0m\u001b[1;33m,\u001b[0m\u001b[0margs\u001b[0m\u001b[1;33m,\u001b[0m\u001b[0mfull_output\u001b[0m\u001b[1;33m,\u001b[0m\u001b[0mdisp\u001b[0m\u001b[1;33m)\u001b[0m\u001b[1;33m\u001b[0m\u001b[0m\n\u001b[0m\u001b[1;32m    443\u001b[0m     \u001b[1;32mreturn\u001b[0m \u001b[0mresults_c\u001b[0m\u001b[1;33m(\u001b[0m\u001b[0mfull_output\u001b[0m\u001b[1;33m,\u001b[0m \u001b[0mr\u001b[0m\u001b[1;33m)\u001b[0m\u001b[1;33m\u001b[0m\u001b[0m\n\u001b[1;32m    444\u001b[0m \u001b[1;33m\u001b[0m\u001b[0m\n",
      "\u001b[0;32m<ipython-input-166-46cc8e7a180e>\u001b[0m in \u001b[0;36m<lambda>\u001b[0;34m(x)\u001b[0m\n\u001b[1;32m     44\u001b[0m     \u001b[0mprint\u001b[0m\u001b[1;33m(\u001b[0m\u001b[1;34m'Starting from value '\u001b[0m \u001b[1;33m+\u001b[0m \u001b[1;34m'{:.3f}'\u001b[0m\u001b[1;33m.\u001b[0m\u001b[0mformat\u001b[0m\u001b[1;33m(\u001b[0m\u001b[0mstart_H\u001b[0m\u001b[1;33m)\u001b[0m \u001b[1;33m+\u001b[0m \u001b[1;34m' degrees, with lower {:.3f} and upper {:.3f}.'\u001b[0m\u001b[1;33m.\u001b[0m\u001b[0mformat\u001b[0m\u001b[1;33m(\u001b[0m\u001b[0mlower_H\u001b[0m\u001b[1;33m,\u001b[0m\u001b[0mupper_H\u001b[0m\u001b[1;33m)\u001b[0m\u001b[1;33m)\u001b[0m\u001b[1;33m\u001b[0m\u001b[0m\n\u001b[1;32m     45\u001b[0m \u001b[1;33m\u001b[0m\u001b[0m\n\u001b[0;32m---> 46\u001b[0;31m     \u001b[0mfz\u001b[0m \u001b[1;33m=\u001b[0m \u001b[1;32mlambda\u001b[0m \u001b[0mx\u001b[0m\u001b[1;33m:\u001b[0m \u001b[1;33m(\u001b[0m\u001b[0mcompute_Hc\u001b[0m\u001b[1;33m(\u001b[0m\u001b[0mlatA\u001b[0m\u001b[1;33m,\u001b[0m \u001b[0mAngle\u001b[0m\u001b[1;33m(\u001b[0m\u001b[0mx\u001b[0m\u001b[1;33m,\u001b[0m\u001b[0munit\u001b[0m\u001b[1;33m=\u001b[0m\u001b[0mu\u001b[0m\u001b[1;33m.\u001b[0m\u001b[0mdeg\u001b[0m\u001b[1;33m)\u001b[0m\u001b[1;33m,\u001b[0m \u001b[0mGHA\u001b[0m\u001b[1;33m,\u001b[0m \u001b[0mDEC\u001b[0m\u001b[1;33m)\u001b[0m\u001b[1;33m.\u001b[0m\u001b[0mdeg\u001b[0m \u001b[1;33m-\u001b[0m \u001b[1;33m(\u001b[0m\u001b[0mHs\u001b[0m\u001b[1;33m.\u001b[0m\u001b[0mdeg\u001b[0m \u001b[1;33m+\u001b[0m \u001b[0mdip_correction\u001b[0m\u001b[1;33m(\u001b[0m\u001b[0mh\u001b[0m\u001b[1;33m)\u001b[0m\u001b[1;33m.\u001b[0m\u001b[0mdeg\u001b[0m \u001b[1;33m+\u001b[0m \u001b[0mindex_correction\u001b[0m\u001b[1;33m(\u001b[0m\u001b[0mIE\u001b[0m\u001b[1;33m)\u001b[0m\u001b[1;33m.\u001b[0m\u001b[0mdeg\u001b[0m \u001b[1;33m+\u001b[0m \u001b[0matmo_correction\u001b[0m\u001b[1;33m(\u001b[0m\u001b[0mHs\u001b[0m\u001b[1;33m,\u001b[0m \u001b[0mtemp\u001b[0m\u001b[1;33m,\u001b[0m \u001b[0mpressure\u001b[0m\u001b[1;33m)\u001b[0m\u001b[1;33m.\u001b[0m\u001b[0mdeg\u001b[0m \u001b[1;33m+\u001b[0m \u001b[0msemidiameter_correction\u001b[0m\u001b[1;33m(\u001b[0m\u001b[0mbody\u001b[0m\u001b[1;33m,\u001b[0m \u001b[0mdate\u001b[0m\u001b[1;33m,\u001b[0m \u001b[0mtime\u001b[0m\u001b[1;33m)\u001b[0m\u001b[1;33m.\u001b[0m\u001b[0mdeg\u001b[0m\u001b[1;33m)\u001b[0m\u001b[1;33m)\u001b[0m\u001b[1;33m\u001b[0m\u001b[0m\n\u001b[0m\u001b[1;32m     47\u001b[0m     \u001b[0mprint\u001b[0m\u001b[1;33m(\u001b[0m\u001b[1;34m'fz(a) is {:.3f}, fz(b) is {:.3f}'\u001b[0m\u001b[1;33m.\u001b[0m\u001b[0mformat\u001b[0m\u001b[1;33m(\u001b[0m\u001b[0mfz\u001b[0m\u001b[1;33m(\u001b[0m\u001b[0mlonA\u001b[0m\u001b[1;33m.\u001b[0m\u001b[0mdeg\u001b[0m\u001b[1;33m-\u001b[0m\u001b[1;36m2\u001b[0m\u001b[1;33m)\u001b[0m\u001b[1;33m,\u001b[0m\u001b[0mfz\u001b[0m\u001b[1;33m(\u001b[0m\u001b[0mlonA\u001b[0m\u001b[1;33m.\u001b[0m\u001b[0mdeg\u001b[0m\u001b[1;33m+\u001b[0m\u001b[1;36m2\u001b[0m\u001b[1;33m)\u001b[0m\u001b[1;33m)\u001b[0m\u001b[1;33m)\u001b[0m\u001b[1;33m\u001b[0m\u001b[0m\n\u001b[1;32m     48\u001b[0m     \u001b[0mspn_out\u001b[0m \u001b[1;33m=\u001b[0m \u001b[0mscipy\u001b[0m\u001b[1;33m.\u001b[0m\u001b[0moptimize\u001b[0m\u001b[1;33m.\u001b[0m\u001b[0mnewton\u001b[0m\u001b[1;33m(\u001b[0m\u001b[0mfz\u001b[0m\u001b[1;33m,\u001b[0m \u001b[0mlonA\u001b[0m\u001b[1;33m.\u001b[0m\u001b[0mdeg\u001b[0m\u001b[1;33m,\u001b[0m \u001b[0mmaxiter\u001b[0m\u001b[1;33m=\u001b[0m\u001b[1;36m200\u001b[0m\u001b[1;33m)\u001b[0m\u001b[1;33m\u001b[0m\u001b[0m\n",
      "\u001b[0;32m<ipython-input-166-46cc8e7a180e>\u001b[0m in \u001b[0;36matmo_correction\u001b[0;34m(Ha, T, P)\u001b[0m\n\u001b[1;32m     14\u001b[0m \u001b[1;33m\u001b[0m\u001b[0m\n\u001b[1;32m     15\u001b[0m \u001b[1;32mdef\u001b[0m \u001b[0matmo_correction\u001b[0m\u001b[1;33m(\u001b[0m\u001b[0mHa\u001b[0m\u001b[1;33m,\u001b[0m \u001b[0mT\u001b[0m\u001b[1;33m,\u001b[0m \u001b[0mP\u001b[0m\u001b[1;33m)\u001b[0m\u001b[1;33m:\u001b[0m\u001b[1;33m\u001b[0m\u001b[0m\n\u001b[0;32m---> 16\u001b[0;31m     \u001b[0mureg\u001b[0m \u001b[1;33m=\u001b[0m \u001b[0mUnitRegistry\u001b[0m\u001b[1;33m(\u001b[0m\u001b[1;33m)\u001b[0m\u001b[1;33m\u001b[0m\u001b[0m\n\u001b[0m\u001b[1;32m     17\u001b[0m     \u001b[0mPmb\u001b[0m \u001b[1;33m=\u001b[0m \u001b[0mP\u001b[0m\u001b[1;33m.\u001b[0m\u001b[0mto\u001b[0m\u001b[1;33m(\u001b[0m\u001b[0mureg\u001b[0m\u001b[1;33m.\u001b[0m\u001b[0mmbar\u001b[0m\u001b[1;33m)\u001b[0m\u001b[1;33m\u001b[0m\u001b[0m\n\u001b[1;32m     18\u001b[0m     \u001b[0mTdegC\u001b[0m \u001b[1;33m=\u001b[0m \u001b[0mT\u001b[0m\u001b[1;33m.\u001b[0m\u001b[0mto\u001b[0m\u001b[1;33m(\u001b[0m\u001b[0mureg\u001b[0m\u001b[1;33m.\u001b[0m\u001b[0mdegC\u001b[0m\u001b[1;33m)\u001b[0m\u001b[1;33m\u001b[0m\u001b[0m\n",
      "\u001b[0;32mC:\\Users\\David\\Anaconda3\\lib\\site-packages\\pint\\unit.py\u001b[0m in \u001b[0;36m__init__\u001b[0;34m(self, filename, force_ndarray, default_as_delta, autoconvert_offset_to_baseunit, on_redefinition, system)\u001b[0m\n\u001b[1;32m    367\u001b[0m         \u001b[0mself\u001b[0m\u001b[1;33m.\u001b[0m\u001b[0m_default_system\u001b[0m \u001b[1;33m=\u001b[0m \u001b[0msystem\u001b[0m \u001b[1;32mor\u001b[0m \u001b[0mself\u001b[0m\u001b[1;33m.\u001b[0m\u001b[0m_defaults\u001b[0m\u001b[1;33m.\u001b[0m\u001b[0mget\u001b[0m\u001b[1;33m(\u001b[0m\u001b[1;34m'system'\u001b[0m\u001b[1;33m,\u001b[0m \u001b[1;32mNone\u001b[0m\u001b[1;33m)\u001b[0m\u001b[1;33m\u001b[0m\u001b[0m\n\u001b[1;32m    368\u001b[0m \u001b[1;33m\u001b[0m\u001b[0m\n\u001b[0;32m--> 369\u001b[0;31m         \u001b[0mself\u001b[0m\u001b[1;33m.\u001b[0m\u001b[0m_build_cache\u001b[0m\u001b[1;33m(\u001b[0m\u001b[1;33m)\u001b[0m\u001b[1;33m\u001b[0m\u001b[0m\n\u001b[0m\u001b[1;32m    370\u001b[0m \u001b[1;33m\u001b[0m\u001b[0m\n\u001b[1;32m    371\u001b[0m     \u001b[1;32mdef\u001b[0m \u001b[0m__name__\u001b[0m\u001b[1;33m(\u001b[0m\u001b[0mself\u001b[0m\u001b[1;33m)\u001b[0m\u001b[1;33m:\u001b[0m\u001b[1;33m\u001b[0m\u001b[0m\n",
      "\u001b[0;32mC:\\Users\\David\\Anaconda3\\lib\\site-packages\\pint\\unit.py\u001b[0m in \u001b[0;36m_build_cache\u001b[0;34m(self)\u001b[0m\n\u001b[1;32m    722\u001b[0m                     \u001b[0muc\u001b[0m \u001b[1;33m=\u001b[0m \u001b[0mParserHelper\u001b[0m\u001b[1;33m.\u001b[0m\u001b[0mfrom_word\u001b[0m\u001b[1;33m(\u001b[0m\u001b[0munit_name\u001b[0m\u001b[1;33m)\u001b[0m\u001b[1;33m\u001b[0m\u001b[0m\n\u001b[1;32m    723\u001b[0m \u001b[1;33m\u001b[0m\u001b[0m\n\u001b[0;32m--> 724\u001b[0;31m                     \u001b[0mbu\u001b[0m \u001b[1;33m=\u001b[0m \u001b[0mself\u001b[0m\u001b[1;33m.\u001b[0m\u001b[0m_get_root_units\u001b[0m\u001b[1;33m(\u001b[0m\u001b[0muc\u001b[0m\u001b[1;33m)\u001b[0m\u001b[1;33m\u001b[0m\u001b[0m\n\u001b[0m\u001b[1;32m    725\u001b[0m                     \u001b[0mdi\u001b[0m \u001b[1;33m=\u001b[0m \u001b[0mself\u001b[0m\u001b[1;33m.\u001b[0m\u001b[0m_get_dimensionality\u001b[0m\u001b[1;33m(\u001b[0m\u001b[0muc\u001b[0m\u001b[1;33m)\u001b[0m\u001b[1;33m\u001b[0m\u001b[0m\n\u001b[1;32m    726\u001b[0m \u001b[1;33m\u001b[0m\u001b[0m\n",
      "\u001b[0;32mC:\\Users\\David\\Anaconda3\\lib\\site-packages\\pint\\unit.py\u001b[0m in \u001b[0;36m_get_root_units\u001b[0;34m(self, input_units, check_nonmult)\u001b[0m\n\u001b[1;32m    877\u001b[0m \u001b[1;33m\u001b[0m\u001b[0m\n\u001b[1;32m    878\u001b[0m         \u001b[0maccumulators\u001b[0m \u001b[1;33m=\u001b[0m \u001b[1;33m[\u001b[0m\u001b[1;36m1.\u001b[0m\u001b[1;33m,\u001b[0m \u001b[0mdefaultdict\u001b[0m\u001b[1;33m(\u001b[0m\u001b[0mfloat\u001b[0m\u001b[1;33m)\u001b[0m\u001b[1;33m]\u001b[0m\u001b[1;33m\u001b[0m\u001b[0m\n\u001b[0;32m--> 879\u001b[0;31m         \u001b[0mself\u001b[0m\u001b[1;33m.\u001b[0m\u001b[0m_get_root_units_recurse\u001b[0m\u001b[1;33m(\u001b[0m\u001b[0minput_units\u001b[0m\u001b[1;33m,\u001b[0m \u001b[1;36m1.0\u001b[0m\u001b[1;33m,\u001b[0m \u001b[0maccumulators\u001b[0m\u001b[1;33m)\u001b[0m\u001b[1;33m\u001b[0m\u001b[0m\n\u001b[0m\u001b[1;32m    880\u001b[0m \u001b[1;33m\u001b[0m\u001b[0m\n\u001b[1;32m    881\u001b[0m         \u001b[0mfactor\u001b[0m \u001b[1;33m=\u001b[0m \u001b[0maccumulators\u001b[0m\u001b[1;33m[\u001b[0m\u001b[1;36m0\u001b[0m\u001b[1;33m]\u001b[0m\u001b[1;33m\u001b[0m\u001b[0m\n",
      "\u001b[0;32mC:\\Users\\David\\Anaconda3\\lib\\site-packages\\pint\\unit.py\u001b[0m in \u001b[0;36m_get_root_units_recurse\u001b[0;34m(self, ref, exp, accumulators)\u001b[0m\n\u001b[1;32m    967\u001b[0m                 \u001b[1;32mif\u001b[0m \u001b[0mreg\u001b[0m\u001b[1;33m.\u001b[0m\u001b[0mreference\u001b[0m \u001b[1;32mis\u001b[0m \u001b[1;32mnot\u001b[0m \u001b[1;32mNone\u001b[0m\u001b[1;33m:\u001b[0m\u001b[1;33m\u001b[0m\u001b[0m\n\u001b[1;32m    968\u001b[0m                     self._get_root_units_recurse(reg.reference, exp2,\n\u001b[0;32m--> 969\u001b[0;31m                                                  accumulators)\n\u001b[0m\u001b[1;32m    970\u001b[0m \u001b[1;33m\u001b[0m\u001b[0m\n\u001b[1;32m    971\u001b[0m     \u001b[1;32mdef\u001b[0m \u001b[0mget_compatible_units\u001b[0m\u001b[1;33m(\u001b[0m\u001b[0mself\u001b[0m\u001b[1;33m,\u001b[0m \u001b[0minput_units\u001b[0m\u001b[1;33m,\u001b[0m \u001b[0mgroup_or_system\u001b[0m\u001b[1;33m=\u001b[0m\u001b[1;32mNone\u001b[0m\u001b[1;33m)\u001b[0m\u001b[1;33m:\u001b[0m\u001b[1;33m\u001b[0m\u001b[0m\n",
      "\u001b[0;32mC:\\Users\\David\\Anaconda3\\lib\\site-packages\\pint\\unit.py\u001b[0m in \u001b[0;36m_get_root_units_recurse\u001b[0;34m(self, ref, exp, accumulators)\u001b[0m\n\u001b[1;32m    967\u001b[0m                 \u001b[1;32mif\u001b[0m \u001b[0mreg\u001b[0m\u001b[1;33m.\u001b[0m\u001b[0mreference\u001b[0m \u001b[1;32mis\u001b[0m \u001b[1;32mnot\u001b[0m \u001b[1;32mNone\u001b[0m\u001b[1;33m:\u001b[0m\u001b[1;33m\u001b[0m\u001b[0m\n\u001b[1;32m    968\u001b[0m                     self._get_root_units_recurse(reg.reference, exp2,\n\u001b[0;32m--> 969\u001b[0;31m                                                  accumulators)\n\u001b[0m\u001b[1;32m    970\u001b[0m \u001b[1;33m\u001b[0m\u001b[0m\n\u001b[1;32m    971\u001b[0m     \u001b[1;32mdef\u001b[0m \u001b[0mget_compatible_units\u001b[0m\u001b[1;33m(\u001b[0m\u001b[0mself\u001b[0m\u001b[1;33m,\u001b[0m \u001b[0minput_units\u001b[0m\u001b[1;33m,\u001b[0m \u001b[0mgroup_or_system\u001b[0m\u001b[1;33m=\u001b[0m\u001b[1;32mNone\u001b[0m\u001b[1;33m)\u001b[0m\u001b[1;33m:\u001b[0m\u001b[1;33m\u001b[0m\u001b[0m\n",
      "\u001b[0;32mC:\\Users\\David\\Anaconda3\\lib\\site-packages\\pint\\unit.py\u001b[0m in \u001b[0;36m_get_root_units_recurse\u001b[0;34m(self, ref, exp, accumulators)\u001b[0m\n\u001b[1;32m    967\u001b[0m                 \u001b[1;32mif\u001b[0m \u001b[0mreg\u001b[0m\u001b[1;33m.\u001b[0m\u001b[0mreference\u001b[0m \u001b[1;32mis\u001b[0m \u001b[1;32mnot\u001b[0m \u001b[1;32mNone\u001b[0m\u001b[1;33m:\u001b[0m\u001b[1;33m\u001b[0m\u001b[0m\n\u001b[1;32m    968\u001b[0m                     self._get_root_units_recurse(reg.reference, exp2,\n\u001b[0;32m--> 969\u001b[0;31m                                                  accumulators)\n\u001b[0m\u001b[1;32m    970\u001b[0m \u001b[1;33m\u001b[0m\u001b[0m\n\u001b[1;32m    971\u001b[0m     \u001b[1;32mdef\u001b[0m \u001b[0mget_compatible_units\u001b[0m\u001b[1;33m(\u001b[0m\u001b[0mself\u001b[0m\u001b[1;33m,\u001b[0m \u001b[0minput_units\u001b[0m\u001b[1;33m,\u001b[0m \u001b[0mgroup_or_system\u001b[0m\u001b[1;33m=\u001b[0m\u001b[1;32mNone\u001b[0m\u001b[1;33m)\u001b[0m\u001b[1;33m:\u001b[0m\u001b[1;33m\u001b[0m\u001b[0m\n",
      "\u001b[0;32mC:\\Users\\David\\Anaconda3\\lib\\site-packages\\pint\\unit.py\u001b[0m in \u001b[0;36m_get_root_units_recurse\u001b[0;34m(self, ref, exp, accumulators)\u001b[0m\n\u001b[1;32m    967\u001b[0m                 \u001b[1;32mif\u001b[0m \u001b[0mreg\u001b[0m\u001b[1;33m.\u001b[0m\u001b[0mreference\u001b[0m \u001b[1;32mis\u001b[0m \u001b[1;32mnot\u001b[0m \u001b[1;32mNone\u001b[0m\u001b[1;33m:\u001b[0m\u001b[1;33m\u001b[0m\u001b[0m\n\u001b[1;32m    968\u001b[0m                     self._get_root_units_recurse(reg.reference, exp2,\n\u001b[0;32m--> 969\u001b[0;31m                                                  accumulators)\n\u001b[0m\u001b[1;32m    970\u001b[0m \u001b[1;33m\u001b[0m\u001b[0m\n\u001b[1;32m    971\u001b[0m     \u001b[1;32mdef\u001b[0m \u001b[0mget_compatible_units\u001b[0m\u001b[1;33m(\u001b[0m\u001b[0mself\u001b[0m\u001b[1;33m,\u001b[0m \u001b[0minput_units\u001b[0m\u001b[1;33m,\u001b[0m \u001b[0mgroup_or_system\u001b[0m\u001b[1;33m=\u001b[0m\u001b[1;32mNone\u001b[0m\u001b[1;33m)\u001b[0m\u001b[1;33m:\u001b[0m\u001b[1;33m\u001b[0m\u001b[0m\n",
      "\u001b[0;32mC:\\Users\\David\\Anaconda3\\lib\\site-packages\\pint\\unit.py\u001b[0m in \u001b[0;36m_get_root_units_recurse\u001b[0;34m(self, ref, exp, accumulators)\u001b[0m\n\u001b[1;32m    967\u001b[0m                 \u001b[1;32mif\u001b[0m \u001b[0mreg\u001b[0m\u001b[1;33m.\u001b[0m\u001b[0mreference\u001b[0m \u001b[1;32mis\u001b[0m \u001b[1;32mnot\u001b[0m \u001b[1;32mNone\u001b[0m\u001b[1;33m:\u001b[0m\u001b[1;33m\u001b[0m\u001b[0m\n\u001b[1;32m    968\u001b[0m                     self._get_root_units_recurse(reg.reference, exp2,\n\u001b[0;32m--> 969\u001b[0;31m                                                  accumulators)\n\u001b[0m\u001b[1;32m    970\u001b[0m \u001b[1;33m\u001b[0m\u001b[0m\n\u001b[1;32m    971\u001b[0m     \u001b[1;32mdef\u001b[0m \u001b[0mget_compatible_units\u001b[0m\u001b[1;33m(\u001b[0m\u001b[0mself\u001b[0m\u001b[1;33m,\u001b[0m \u001b[0minput_units\u001b[0m\u001b[1;33m,\u001b[0m \u001b[0mgroup_or_system\u001b[0m\u001b[1;33m=\u001b[0m\u001b[1;32mNone\u001b[0m\u001b[1;33m)\u001b[0m\u001b[1;33m:\u001b[0m\u001b[1;33m\u001b[0m\u001b[0m\n",
      "\u001b[0;32mC:\\Users\\David\\Anaconda3\\lib\\site-packages\\pint\\unit.py\u001b[0m in \u001b[0;36m_get_root_units_recurse\u001b[0;34m(self, ref, exp, accumulators)\u001b[0m\n\u001b[1;32m    959\u001b[0m         \u001b[1;32mfor\u001b[0m \u001b[0mkey\u001b[0m \u001b[1;32min\u001b[0m \u001b[0msorted\u001b[0m\u001b[1;33m(\u001b[0m\u001b[0mref\u001b[0m\u001b[1;33m)\u001b[0m\u001b[1;33m:\u001b[0m\u001b[1;33m\u001b[0m\u001b[0m\n\u001b[1;32m    960\u001b[0m             \u001b[0mexp2\u001b[0m \u001b[1;33m=\u001b[0m \u001b[0mexp\u001b[0m\u001b[1;33m*\u001b[0m\u001b[0mref\u001b[0m\u001b[1;33m[\u001b[0m\u001b[0mkey\u001b[0m\u001b[1;33m]\u001b[0m\u001b[1;33m\u001b[0m\u001b[0m\n\u001b[0;32m--> 961\u001b[0;31m             \u001b[0mkey\u001b[0m \u001b[1;33m=\u001b[0m \u001b[0mself\u001b[0m\u001b[1;33m.\u001b[0m\u001b[0mget_name\u001b[0m\u001b[1;33m(\u001b[0m\u001b[0mkey\u001b[0m\u001b[1;33m)\u001b[0m\u001b[1;33m\u001b[0m\u001b[0m\n\u001b[0m\u001b[1;32m    962\u001b[0m             \u001b[0mreg\u001b[0m \u001b[1;33m=\u001b[0m \u001b[0mself\u001b[0m\u001b[1;33m.\u001b[0m\u001b[0m_units\u001b[0m\u001b[1;33m[\u001b[0m\u001b[0mkey\u001b[0m\u001b[1;33m]\u001b[0m\u001b[1;33m\u001b[0m\u001b[0m\n\u001b[1;32m    963\u001b[0m             \u001b[1;32mif\u001b[0m \u001b[0mreg\u001b[0m\u001b[1;33m.\u001b[0m\u001b[0mis_base\u001b[0m\u001b[1;33m:\u001b[0m\u001b[1;33m\u001b[0m\u001b[0m\n",
      "\u001b[0;32mC:\\Users\\David\\Anaconda3\\lib\\site-packages\\pint\\unit.py\u001b[0m in \u001b[0;36mget_name\u001b[0;34m(self, name_or_alias, case_sensitive)\u001b[0m\n\u001b[1;32m    749\u001b[0m             \u001b[1;32mpass\u001b[0m\u001b[1;33m\u001b[0m\u001b[0m\n\u001b[1;32m    750\u001b[0m \u001b[1;33m\u001b[0m\u001b[0m\n\u001b[0;32m--> 751\u001b[0;31m         \u001b[0mcandidates\u001b[0m \u001b[1;33m=\u001b[0m \u001b[0mself\u001b[0m\u001b[1;33m.\u001b[0m\u001b[0m_dedup_candidates\u001b[0m\u001b[1;33m(\u001b[0m\u001b[0mself\u001b[0m\u001b[1;33m.\u001b[0m\u001b[0mparse_unit_name\u001b[0m\u001b[1;33m(\u001b[0m\u001b[0mname_or_alias\u001b[0m\u001b[1;33m,\u001b[0m \u001b[0mcase_sensitive\u001b[0m\u001b[1;33m)\u001b[0m\u001b[1;33m)\u001b[0m\u001b[1;33m\u001b[0m\u001b[0m\n\u001b[0m\u001b[1;32m    752\u001b[0m         \u001b[1;32mif\u001b[0m \u001b[1;32mnot\u001b[0m \u001b[0mcandidates\u001b[0m\u001b[1;33m:\u001b[0m\u001b[1;33m\u001b[0m\u001b[0m\n\u001b[1;32m    753\u001b[0m             \u001b[1;32mraise\u001b[0m \u001b[0mUndefinedUnitError\u001b[0m\u001b[1;33m(\u001b[0m\u001b[0mname_or_alias\u001b[0m\u001b[1;33m)\u001b[0m\u001b[1;33m\u001b[0m\u001b[0m\n",
      "\u001b[0;32mC:\\Users\\David\\Anaconda3\\lib\\site-packages\\pint\\unit.py\u001b[0m in \u001b[0;36m_dedup_candidates\u001b[0;34m(self, candidates)\u001b[0m\n\u001b[1;32m   1148\u001b[0m         \"\"\"Given a list of units, remove those with different names but equal value.\n\u001b[1;32m   1149\u001b[0m         \"\"\"\n\u001b[0;32m-> 1150\u001b[0;31m         \u001b[0mcandidates\u001b[0m \u001b[1;33m=\u001b[0m \u001b[0mtuple\u001b[0m\u001b[1;33m(\u001b[0m\u001b[0mcandidates\u001b[0m\u001b[1;33m)\u001b[0m\u001b[1;33m\u001b[0m\u001b[0m\n\u001b[0m\u001b[1;32m   1151\u001b[0m         \u001b[1;32mif\u001b[0m \u001b[0mlen\u001b[0m\u001b[1;33m(\u001b[0m\u001b[0mcandidates\u001b[0m\u001b[1;33m)\u001b[0m \u001b[1;33m<\u001b[0m \u001b[1;36m2\u001b[0m\u001b[1;33m:\u001b[0m\u001b[1;33m\u001b[0m\u001b[0m\n\u001b[1;32m   1152\u001b[0m             \u001b[1;32mreturn\u001b[0m \u001b[0mcandidates\u001b[0m\u001b[1;33m\u001b[0m\u001b[0m\n",
      "\u001b[0;32mC:\\Users\\David\\Anaconda3\\lib\\site-packages\\pint\\unit.py\u001b[0m in \u001b[0;36mparse_unit_name\u001b[0;34m(self, unit_name, case_sensitive)\u001b[0m\n\u001b[1;32m   1170\u001b[0m         \u001b[1;32mfor\u001b[0m \u001b[0msuffix\u001b[0m\u001b[1;33m,\u001b[0m \u001b[0mprefix\u001b[0m \u001b[1;32min\u001b[0m \u001b[0mitertools\u001b[0m\u001b[1;33m.\u001b[0m\u001b[0mproduct\u001b[0m\u001b[1;33m(\u001b[0m\u001b[0mself\u001b[0m\u001b[1;33m.\u001b[0m\u001b[0m_suffixes\u001b[0m\u001b[1;33m,\u001b[0m \u001b[0mself\u001b[0m\u001b[1;33m.\u001b[0m\u001b[0m_prefixes\u001b[0m\u001b[1;33m)\u001b[0m\u001b[1;33m:\u001b[0m\u001b[1;33m\u001b[0m\u001b[0m\n\u001b[1;32m   1171\u001b[0m             \u001b[1;32mif\u001b[0m \u001b[0mstw\u001b[0m\u001b[1;33m(\u001b[0m\u001b[0mprefix\u001b[0m\u001b[1;33m)\u001b[0m \u001b[1;32mand\u001b[0m \u001b[0medw\u001b[0m\u001b[1;33m(\u001b[0m\u001b[0msuffix\u001b[0m\u001b[1;33m)\u001b[0m\u001b[1;33m:\u001b[0m\u001b[1;33m\u001b[0m\u001b[0m\n\u001b[0;32m-> 1172\u001b[0;31m                 \u001b[0mname\u001b[0m \u001b[1;33m=\u001b[0m \u001b[0munit_name\u001b[0m\u001b[1;33m[\u001b[0m\u001b[0mlen\u001b[0m\u001b[1;33m(\u001b[0m\u001b[0mprefix\u001b[0m\u001b[1;33m)\u001b[0m\u001b[1;33m:\u001b[0m\u001b[1;33m]\u001b[0m\u001b[1;33m\u001b[0m\u001b[0m\n\u001b[0m\u001b[1;32m   1173\u001b[0m                 \u001b[1;32mif\u001b[0m \u001b[0msuffix\u001b[0m\u001b[1;33m:\u001b[0m\u001b[1;33m\u001b[0m\u001b[0m\n\u001b[1;32m   1174\u001b[0m                     \u001b[0mname\u001b[0m \u001b[1;33m=\u001b[0m \u001b[0mname\u001b[0m\u001b[1;33m[\u001b[0m\u001b[1;33m:\u001b[0m\u001b[1;33m-\u001b[0m\u001b[0mlen\u001b[0m\u001b[1;33m(\u001b[0m\u001b[0msuffix\u001b[0m\u001b[1;33m)\u001b[0m\u001b[1;33m]\u001b[0m\u001b[1;33m\u001b[0m\u001b[0m\n",
      "\u001b[0;31mKeyboardInterrupt\u001b[0m: "
     ]
    }
   ],
   "source": [
    "# 'database' of sightings for reduction into a single lat/long pair + course speed/heading\n",
    "\n",
    "db_sights = \"\"\"\\\n",
    "SunLL,2015/02/22,12:11:17,51d07.3m,0.0,2.0m,2.44,25,1010,5.5,180d,16d44m,-27d7m\n",
    "SunLL,2015/02/22,12:12:13,51d22.1m,0.0,2.0m,2.44,25,1010,5.5,180d,16d44m,-27d7m\n",
    "SunLL,2015/02/22,12:13:08,51d29.8m,0.0,2.0m,2.44,25,1010,5.5,180d,16d44m,-27d7m\n",
    "SunLL,2015/02/22,12:13:55,51d39.5m,0.0,2.0m,2.44,25,1010,5.5,180d,16d44m,-27d7m\n",
    "SunLL,2015/02/22,12:15:05,51d39.5m,0.0,2.0m,2.44,25,1010,5.5,180d,16d44m,-27d7m\n",
    "SunLL,2015/02/22,14:21:17,62d42.3m,0.0,2.1m,3.05,25,1010,5.5,180d,16d44m,-27d7m\n",
    "SunLL,2015/02/22,14:22:23,62d34.8m,0.0,2.1m,3.05,25,1010,5.5,180d,16d44m,-27d7m\n",
    "SunLL,2015/02/22,14:23:11,62d36.4m,0.0,2.1m,3.05,25,1010,5.5,180d,16d44m,-27d7m\n",
    "\"\"\"\n",
    "\n",
    "db_sights_split = db_sights.split('\\n')\n",
    "# remove last element\n",
    "del db_sights_split[-1]\n",
    "\n",
    "def nadeg(deg):\n",
    "    #changes ephem.angel (rad) to the format for the Angle class.\n",
    "    theminus = \"\"\n",
    "    if deg < 0:\n",
    "    \ttheminus = \"-\"\n",
    "    g = int(math.degrees(deg))\n",
    "    m = (math.degrees(deg)-g)*60\n",
    "    gm = \"%s%sd%04.1fm\" %(theminus,abs(g),abs(m))\n",
    "    return gm\n",
    "\n",
    "def compute_GHA_DEC(body, date, time):\n",
    "    if body == 'SunLL' or 'SunUL':\n",
    "        s = ephem.Sun()\n",
    "        obs = ephem.Observer()\n",
    "        date_string = date + ' ' + time\n",
    "        obs.date = date_string\n",
    "        \n",
    "        s.compute(date_string,epoch=date_string)\n",
    "\n",
    "        deg = ephem.degrees(obs.sidereal_time()-s.g_ra).norm\n",
    "        ghas = nadeg(deg)\n",
    "        deg = s.g_dec\n",
    "        decs = nadeg(deg)\n",
    "\n",
    "    return Angle(ghas,unit=u.deg), Angle(decs,unit=u.deg)\n",
    "\n",
    "def semidiameter_correction(body, date, time):\n",
    "    if body == 'SunLL' or 'SunUL':\n",
    "        s = ephem.Sun()\n",
    "        obs = ephem.Observer()\n",
    "        date_string = date + ' ' + time\n",
    "        obs.date = date_string\n",
    "        \n",
    "        s.compute(date_string,epoch=date_string)\n",
    "        # compute SD of sun\n",
    "        sds = s.radius/ephem.pi*180.0 # degrees of arc\n",
    "        if body == 'SunLL':\n",
    "            return Angle('{:.3f}d'.format(sds))\n",
    "        else:\n",
    "            return Angle('{:.3f}d'.format(sds))\n",
    "        \n",
    "    return Angle('0d')\n",
    "        \n",
    "ll_lat = []\n",
    "ll_lon = []\n",
    "# preprocess the array of sights into corrected sightings based on ephemeris from pyephem\n",
    "for i in range(len(db_sights_split)):\n",
    "    ureg = UnitRegistry()\n",
    "    \n",
    "    body, date, time, Hs, WE, IE, height, temp, pressure, DRv, DRheading, latA, lonA = db_sights_split[i].split(',') # split into line elements\n",
    "    # coerce values from strings to objects\n",
    "    # ignores watch error (WE)\n",
    "    Hs = Angle(Hs)\n",
    "    WE = float(WE)\n",
    "    IE = Angle(IE)\n",
    "    height = float(height)*ureg.meter\n",
    "    pressure = ureg.Quantity(float(pressure),ureg.mbar)\n",
    "    temp = ureg.Quantity(float(temp),ureg.degC)\n",
    "    DRv = float(DRv)\n",
    "    DRheading = Angle(DRheading,unit=u.deg) # FIX THIS TO APPROPRIATE COORDINATES\n",
    "    latA = Angle(latA,unit=u.deg)\n",
    "    lonA = Angle(lonA,unit=u.deg)\n",
    "    \n",
    "    # process based on body\n",
    "    if body == 'SunLL':\n",
    "        GHAc, DECc = compute_GHA_DEC(body, date, time)\n",
    "        sd = semidiameter_correction(body, date, time)\n",
    "        print('date: {}'.format(date + ' ' + time))\n",
    "        print('GHA: {}, DEC: {}'.format(GHAc, DECc))\n",
    "        \n",
    "    \n",
    "    # estimate the location\n",
    "    # function def is: est_longitude(body, date, time, Ha, IE, h, temp, pressure, GHA, DEC, latA, lonA):\n",
    "    est_long = est_longitude(body, date, time, Hs, IE, height, temp, pressure, GHAc, DECc, latA, lonA)\n",
    "    print('Estimated longitude is: {:.3f}'.format(est_long))\n",
    "    ll_lat.append(i)\n",
    "    ll_lon.append(est_long.deg)\n",
    "    \n",
    "    # now process the sightings again into corrected sightings and the GHA/DEC values\n",
    "    \n",
    "    \n",
    "# m = Basemap(projection='merc',llcrnrlat=20,urcrnrlat=50,\\\n",
    "#             llcrnrlon=-130,urcrnrlon=-60,lat_ts=20,resolution='i')\n",
    "# m.drawcoastlines()\n",
    "# m.drawcountries()\n",
    "# # draw parallels and meridians.\n",
    "# parallels = np.arange(-90.,91.,5.)\n",
    "# # Label the meridians and parallels\n",
    "# m.drawparallels(parallels,labels=[False,True,True,False])\n",
    "# # Draw Meridians and Labels\n",
    "# meridians = np.arange(-180.,181.,10.)\n",
    "# m.drawmeridians(meridians,labels=[True,False,False,True])\n",
    "# m.drawmapboundary(fill_color='white')\n",
    "# plt.title(\"Forecast {0} days out\".format(day_out))\n",
    "# x,y = m(ll_lon, ll_lat)                            # This is the step that transforms the data into the map's projection\n"
   ]
  },
  {
   "cell_type": "code",
   "execution_count": 164,
   "metadata": {
    "collapsed": false
   },
   "outputs": [
    {
     "data": {
      "image/png": "[encoded data removed]",
      "text/plain": [
       "<matplotlib.figure.Figure at 0xa27b240>"
      ]
     },
     "metadata": {},
     "output_type": "display_data"
    }
   ],
   "source": [
    "plt.plot(ll_lat,ll_lon, 'bo-', markersize=5)\n",
    "plt.show()"
   ]
  }
 ],
 "metadata": {
  "anaconda-cloud": {},
  "kernelspec": {
   "display_name": "Python [default]",
   "language": "python",
   "name": "python3"
  },
  "language_info": {
   "codemirror_mode": {
    "name": "ipython",
    "version": 3
   },
   "file_extension": ".py",
   "mimetype": "text/x-python",
   "name": "python",
   "nbconvert_exporter": "python",
   "pygments_lexer": "ipython3",
   "version": "3.5.2"
  }
 },
 "nbformat": 4,
 "nbformat_minor": 0
}
